{
 "cells": [
  {
   "cell_type": "code",
   "execution_count": 3,
   "metadata": {},
   "outputs": [],
   "source": [
    "import pandas as pd\n",
    "import numpy as np\n",
    "import datetime\n",
    "\n",
    "import matplotlib.pyplot as plt\n",
    "import seaborn as sns\n",
    "sns.set()\n",
    "\n",
    "# set figure size\n",
    "plt.rcParams[\"figure.figsize\"] = (8,6)\n",
    "\n",
    "# specify decimal places to display\n",
    "pd.set_option('display.float_format', lambda x: '%.2f' % x)"
   ]
  },
  {
   "cell_type": "code",
   "execution_count": 5,
   "metadata": {},
   "outputs": [
    {
     "data": {
      "text/html": [
       "<div>\n",
       "<style scoped>\n",
       "    .dataframe tbody tr th:only-of-type {\n",
       "        vertical-align: middle;\n",
       "    }\n",
       "\n",
       "    .dataframe tbody tr th {\n",
       "        vertical-align: top;\n",
       "    }\n",
       "\n",
       "    .dataframe thead th {\n",
       "        text-align: right;\n",
       "    }\n",
       "</style>\n",
       "<table border=\"1\" class=\"dataframe\">\n",
       "  <thead>\n",
       "    <tr style=\"text-align: right;\">\n",
       "      <th></th>\n",
       "      <th>temp</th>\n",
       "      <th>date</th>\n",
       "    </tr>\n",
       "  </thead>\n",
       "  <tbody>\n",
       "    <tr>\n",
       "      <th>0</th>\n",
       "      <td>47.80</td>\n",
       "      <td>2010-01-01 00:00:00</td>\n",
       "    </tr>\n",
       "    <tr>\n",
       "      <th>1</th>\n",
       "      <td>47.40</td>\n",
       "      <td>2010-01-01 01:00:00</td>\n",
       "    </tr>\n",
       "    <tr>\n",
       "      <th>2</th>\n",
       "      <td>46.90</td>\n",
       "      <td>2010-01-01 02:00:00</td>\n",
       "    </tr>\n",
       "    <tr>\n",
       "      <th>3</th>\n",
       "      <td>46.50</td>\n",
       "      <td>2010-01-01 03:00:00</td>\n",
       "    </tr>\n",
       "    <tr>\n",
       "      <th>4</th>\n",
       "      <td>46.00</td>\n",
       "      <td>2010-01-01 04:00:00</td>\n",
       "    </tr>\n",
       "  </tbody>\n",
       "</table>\n",
       "</div>"
      ],
      "text/plain": [
       "   temp                date\n",
       "0 47.80 2010-01-01 00:00:00\n",
       "1 47.40 2010-01-01 01:00:00\n",
       "2 46.90 2010-01-01 02:00:00\n",
       "3 46.50 2010-01-01 03:00:00\n",
       "4 46.00 2010-01-01 04:00:00"
      ]
     },
     "execution_count": 5,
     "metadata": {},
     "output_type": "execute_result"
    }
   ],
   "source": [
    "from vega_datasets import data\n",
    "df = data.sf_temps()\n",
    "\n",
    "df.head()"
   ]
  },
  {
   "cell_type": "code",
   "execution_count": 6,
   "metadata": {},
   "outputs": [
    {
     "data": {
      "text/plain": [
       "(8759, 2)"
      ]
     },
     "execution_count": 6,
     "metadata": {},
     "output_type": "execute_result"
    }
   ],
   "source": [
    "df.shape"
   ]
  },
  {
   "cell_type": "markdown",
   "metadata": {},
   "source": [
    "#### Question 1: Resample by the day and take the average temperature. Visualize the average temperature over time."
   ]
  },
  {
   "cell_type": "code",
   "execution_count": 9,
   "metadata": {},
   "outputs": [
    {
     "data": {
      "text/plain": [
       "0      2010-01-01 00:00:00\n",
       "1      2010-01-01 01:00:00\n",
       "2      2010-01-01 02:00:00\n",
       "3      2010-01-01 03:00:00\n",
       "4      2010-01-01 04:00:00\n",
       "               ...        \n",
       "8754   2010-12-31 19:00:00\n",
       "8755   2010-12-31 20:00:00\n",
       "8756   2010-12-31 21:00:00\n",
       "8757   2010-12-31 22:00:00\n",
       "8758   2010-12-31 23:00:00\n",
       "Name: date, Length: 8759, dtype: datetime64[ns]"
      ]
     },
     "execution_count": 9,
     "metadata": {},
     "output_type": "execute_result"
    }
   ],
   "source": [
    "df.date = pd.to_datetime(df.date, format = '%Y-%m-%d %I-%p') ## converting to date time\n",
    "\n",
    "df.date ## maiking sure we have a date time"
   ]
  },
  {
   "cell_type": "code",
   "execution_count": 11,
   "metadata": {},
   "outputs": [],
   "source": [
    "## setting date as index and sorting for vis purposes\n",
    "\n",
    "df = df.set_index('date').sort_index()  "
   ]
  },
  {
   "cell_type": "code",
   "execution_count": 12,
   "metadata": {},
   "outputs": [
    {
     "data": {
      "text/html": [
       "<div>\n",
       "<style scoped>\n",
       "    .dataframe tbody tr th:only-of-type {\n",
       "        vertical-align: middle;\n",
       "    }\n",
       "\n",
       "    .dataframe tbody tr th {\n",
       "        vertical-align: top;\n",
       "    }\n",
       "\n",
       "    .dataframe thead th {\n",
       "        text-align: right;\n",
       "    }\n",
       "</style>\n",
       "<table border=\"1\" class=\"dataframe\">\n",
       "  <thead>\n",
       "    <tr style=\"text-align: right;\">\n",
       "      <th></th>\n",
       "      <th>temp</th>\n",
       "    </tr>\n",
       "    <tr>\n",
       "      <th>date</th>\n",
       "      <th></th>\n",
       "    </tr>\n",
       "  </thead>\n",
       "  <tbody>\n",
       "    <tr>\n",
       "      <th>2010-01-01 00:00:00</th>\n",
       "      <td>47.80</td>\n",
       "    </tr>\n",
       "    <tr>\n",
       "      <th>2010-01-01 01:00:00</th>\n",
       "      <td>47.40</td>\n",
       "    </tr>\n",
       "    <tr>\n",
       "      <th>2010-01-01 02:00:00</th>\n",
       "      <td>46.90</td>\n",
       "    </tr>\n",
       "    <tr>\n",
       "      <th>2010-01-01 03:00:00</th>\n",
       "      <td>46.50</td>\n",
       "    </tr>\n",
       "    <tr>\n",
       "      <th>2010-01-01 04:00:00</th>\n",
       "      <td>46.00</td>\n",
       "    </tr>\n",
       "  </tbody>\n",
       "</table>\n",
       "</div>"
      ],
      "text/plain": [
       "                     temp\n",
       "date                     \n",
       "2010-01-01 00:00:00 47.80\n",
       "2010-01-01 01:00:00 47.40\n",
       "2010-01-01 02:00:00 46.90\n",
       "2010-01-01 03:00:00 46.50\n",
       "2010-01-01 04:00:00 46.00"
      ]
     },
     "execution_count": 12,
     "metadata": {},
     "output_type": "execute_result"
    }
   ],
   "source": [
    "df.head()"
   ]
  },
  {
   "cell_type": "code",
   "execution_count": 13,
   "metadata": {},
   "outputs": [
    {
     "data": {
      "text/html": [
       "<div>\n",
       "<style scoped>\n",
       "    .dataframe tbody tr th:only-of-type {\n",
       "        vertical-align: middle;\n",
       "    }\n",
       "\n",
       "    .dataframe tbody tr th {\n",
       "        vertical-align: top;\n",
       "    }\n",
       "\n",
       "    .dataframe thead th {\n",
       "        text-align: right;\n",
       "    }\n",
       "</style>\n",
       "<table border=\"1\" class=\"dataframe\">\n",
       "  <thead>\n",
       "    <tr style=\"text-align: right;\">\n",
       "      <th></th>\n",
       "      <th>temp</th>\n",
       "    </tr>\n",
       "    <tr>\n",
       "      <th>date</th>\n",
       "      <th></th>\n",
       "    </tr>\n",
       "  </thead>\n",
       "  <tbody>\n",
       "    <tr>\n",
       "      <th>2010-01-01</th>\n",
       "      <td>49.17</td>\n",
       "    </tr>\n",
       "    <tr>\n",
       "      <th>2010-01-02</th>\n",
       "      <td>49.30</td>\n",
       "    </tr>\n",
       "    <tr>\n",
       "      <th>2010-01-03</th>\n",
       "      <td>49.39</td>\n",
       "    </tr>\n",
       "    <tr>\n",
       "      <th>2010-01-04</th>\n",
       "      <td>49.45</td>\n",
       "    </tr>\n",
       "    <tr>\n",
       "      <th>2010-01-05</th>\n",
       "      <td>49.49</td>\n",
       "    </tr>\n",
       "    <tr>\n",
       "      <th>...</th>\n",
       "      <td>...</td>\n",
       "    </tr>\n",
       "    <tr>\n",
       "      <th>2010-12-27</th>\n",
       "      <td>48.99</td>\n",
       "    </tr>\n",
       "    <tr>\n",
       "      <th>2010-12-28</th>\n",
       "      <td>49.00</td>\n",
       "    </tr>\n",
       "    <tr>\n",
       "      <th>2010-12-29</th>\n",
       "      <td>49.01</td>\n",
       "    </tr>\n",
       "    <tr>\n",
       "      <th>2010-12-30</th>\n",
       "      <td>49.01</td>\n",
       "    </tr>\n",
       "    <tr>\n",
       "      <th>2010-12-31</th>\n",
       "      <td>49.12</td>\n",
       "    </tr>\n",
       "  </tbody>\n",
       "</table>\n",
       "<p>365 rows × 1 columns</p>\n",
       "</div>"
      ],
      "text/plain": [
       "            temp\n",
       "date            \n",
       "2010-01-01 49.17\n",
       "2010-01-02 49.30\n",
       "2010-01-03 49.39\n",
       "2010-01-04 49.45\n",
       "2010-01-05 49.49\n",
       "...          ...\n",
       "2010-12-27 48.99\n",
       "2010-12-28 49.00\n",
       "2010-12-29 49.01\n",
       "2010-12-30 49.01\n",
       "2010-12-31 49.12\n",
       "\n",
       "[365 rows x 1 columns]"
      ]
     },
     "execution_count": 13,
     "metadata": {},
     "output_type": "execute_result"
    }
   ],
   "source": [
    "df.resample('D').mean() #resample the whole dataframe using day and mean as an aggregator"
   ]
  },
  {
   "cell_type": "code",
   "execution_count": 19,
   "metadata": {},
   "outputs": [
    {
     "data": {
      "text/plain": [
       "<matplotlib.legend.Legend at 0x7fddd5b2e880>"
      ]
     },
     "execution_count": 19,
     "metadata": {},
     "output_type": "execute_result"
    },
    {
     "data": {
      "image/png": "[encoded data removed]",
      "text/plain": [
       "<Figure size 576x432 with 1 Axes>"
      ]
     },
     "metadata": {},
     "output_type": "display_data"
    }
   ],
   "source": [
    "df.temp.plot(label = 'Raw Data')\n",
    "df.resample('D').mean().temp.plot(label = 'Daily Resampled')\n",
    "plt.legend()"
   ]
  },
  {
   "cell_type": "markdown",
   "metadata": {},
   "source": [
    "#### Question 2: Write the code necessary to visualize the minimum temperature over time."
   ]
  },
  {
   "cell_type": "code",
   "execution_count": 20,
   "metadata": {},
   "outputs": [
    {
     "data": {
      "text/plain": [
       "<matplotlib.legend.Legend at 0x7fddd6144940>"
      ]
     },
     "execution_count": 20,
     "metadata": {},
     "output_type": "execute_result"
    },
    {
     "data": {
      "image/png": "[encoded data removed]",
      "text/plain": [
       "<Figure size 576x432 with 1 Axes>"
      ]
     },
     "metadata": {},
     "output_type": "display_data"
    }
   ],
   "source": [
    "df.temp.plot(label = 'Raw Data')\n",
    "df.resample('D').min().temp.plot(label = 'Daily Resampled')\n",
    "plt.legend()"
   ]
  },
  {
   "cell_type": "markdown",
   "metadata": {},
   "source": [
    "#### Question 3: Write the code necessary to visualize the maximum temperature over time.\n"
   ]
  },
  {
   "cell_type": "code",
   "execution_count": 21,
   "metadata": {},
   "outputs": [
    {
     "data": {
      "text/plain": [
       "<matplotlib.legend.Legend at 0x7fddd6828f70>"
      ]
     },
     "execution_count": 21,
     "metadata": {},
     "output_type": "execute_result"
    },
    {
     "data": {
      "image/png": "[encoded data removed]",
      "text/plain": [
       "<Figure size 576x432 with 1 Axes>"
      ]
     },
     "metadata": {},
     "output_type": "display_data"
    }
   ],
   "source": [
    "df.temp.plot(label = 'Raw Data')\n",
    "df.resample('D').max().temp.plot(label = 'Daily Resampled')\n",
    "plt.legend()"
   ]
  },
  {
   "cell_type": "markdown",
   "metadata": {},
   "source": [
    "#### Combining One, Two, and Three"
   ]
  },
  {
   "cell_type": "code",
   "execution_count": 23,
   "metadata": {},
   "outputs": [
    {
     "data": {
      "image/png": "[encoded data removed]",
      "text/plain": [
       "<Figure size 576x432 with 1 Axes>"
      ]
     },
     "metadata": {},
     "output_type": "display_data"
    }
   ],
   "source": [
    "df.temp.plot(label = 'Raw Data')\n",
    "df.resample('D').mean().temp.plot(label = 'Daily Resampled Mean')\n",
    "df.resample('D').min().temp.plot(label = 'Daily Resampled Min')\n",
    "df.resample('D').max().temp.plot(label = 'Daily Resampled Max')\n",
    "plt.legend()\n",
    "plt.show()"
   ]
  },
  {
   "cell_type": "markdown",
   "metadata": {},
   "source": [
    "#### Question 4: Which month is the coldest, on average?\n"
   ]
  },
  {
   "cell_type": "code",
   "execution_count": 24,
   "metadata": {},
   "outputs": [
    {
     "data": {
      "text/html": [
       "<div>\n",
       "<style scoped>\n",
       "    .dataframe tbody tr th:only-of-type {\n",
       "        vertical-align: middle;\n",
       "    }\n",
       "\n",
       "    .dataframe tbody tr th {\n",
       "        vertical-align: top;\n",
       "    }\n",
       "\n",
       "    .dataframe thead th {\n",
       "        text-align: right;\n",
       "    }\n",
       "</style>\n",
       "<table border=\"1\" class=\"dataframe\">\n",
       "  <thead>\n",
       "    <tr style=\"text-align: right;\">\n",
       "      <th></th>\n",
       "      <th>temp</th>\n",
       "    </tr>\n",
       "    <tr>\n",
       "      <th>date</th>\n",
       "      <th></th>\n",
       "    </tr>\n",
       "  </thead>\n",
       "  <tbody>\n",
       "    <tr>\n",
       "      <th>2010-01-31</th>\n",
       "      <td>49.98</td>\n",
       "    </tr>\n",
       "    <tr>\n",
       "      <th>2010-12-31</th>\n",
       "      <td>50.50</td>\n",
       "    </tr>\n",
       "    <tr>\n",
       "      <th>2010-02-28</th>\n",
       "      <td>52.24</td>\n",
       "    </tr>\n",
       "    <tr>\n",
       "      <th>2010-03-31</th>\n",
       "      <td>53.96</td>\n",
       "    </tr>\n",
       "    <tr>\n",
       "      <th>2010-11-30</th>\n",
       "      <td>55.19</td>\n",
       "    </tr>\n",
       "    <tr>\n",
       "      <th>2010-04-30</th>\n",
       "      <td>55.63</td>\n",
       "    </tr>\n",
       "    <tr>\n",
       "      <th>2010-05-31</th>\n",
       "      <td>57.97</td>\n",
       "    </tr>\n",
       "    <tr>\n",
       "      <th>2010-10-31</th>\n",
       "      <td>60.25</td>\n",
       "    </tr>\n",
       "    <tr>\n",
       "      <th>2010-06-30</th>\n",
       "      <td>60.44</td>\n",
       "    </tr>\n",
       "    <tr>\n",
       "      <th>2010-07-31</th>\n",
       "      <td>61.77</td>\n",
       "    </tr>\n",
       "    <tr>\n",
       "      <th>2010-08-31</th>\n",
       "      <td>62.41</td>\n",
       "    </tr>\n",
       "    <tr>\n",
       "      <th>2010-09-30</th>\n",
       "      <td>62.49</td>\n",
       "    </tr>\n",
       "  </tbody>\n",
       "</table>\n",
       "</div>"
      ],
      "text/plain": [
       "            temp\n",
       "date            \n",
       "2010-01-31 49.98\n",
       "2010-12-31 50.50\n",
       "2010-02-28 52.24\n",
       "2010-03-31 53.96\n",
       "2010-11-30 55.19\n",
       "2010-04-30 55.63\n",
       "2010-05-31 57.97\n",
       "2010-10-31 60.25\n",
       "2010-06-30 60.44\n",
       "2010-07-31 61.77\n",
       "2010-08-31 62.41\n",
       "2010-09-30 62.49"
      ]
     },
     "execution_count": 24,
     "metadata": {},
     "output_type": "execute_result"
    }
   ],
   "source": [
    "df.resample('M').mean().sort_values(by = 'temp') ## code answer "
   ]
  },
  {
   "cell_type": "code",
   "execution_count": 25,
   "metadata": {},
   "outputs": [
    {
     "data": {
      "text/plain": [
       "<AxesSubplot:xlabel='date'>"
      ]
     },
     "execution_count": 25,
     "metadata": {},
     "output_type": "execute_result"
    },
    {
     "data": {
      "image/png": "[encoded data removed]",
      "text/plain": [
       "<Figure size 576x432 with 1 Axes>"
      ]
     },
     "metadata": {},
     "output_type": "display_data"
    }
   ],
   "source": [
    "df.resample('M').mean().temp.plot() ## Visual Answer"
   ]
  },
  {
   "cell_type": "markdown",
   "metadata": {},
   "source": [
    "The coldest month on average is January"
   ]
  },
  {
   "cell_type": "markdown",
   "metadata": {},
   "source": [
    "#### Question 5: Which month has the highest average temperature?\n"
   ]
  },
  {
   "cell_type": "code",
   "execution_count": 26,
   "metadata": {},
   "outputs": [
    {
     "data": {
      "text/html": [
       "<div>\n",
       "<style scoped>\n",
       "    .dataframe tbody tr th:only-of-type {\n",
       "        vertical-align: middle;\n",
       "    }\n",
       "\n",
       "    .dataframe tbody tr th {\n",
       "        vertical-align: top;\n",
       "    }\n",
       "\n",
       "    .dataframe thead th {\n",
       "        text-align: right;\n",
       "    }\n",
       "</style>\n",
       "<table border=\"1\" class=\"dataframe\">\n",
       "  <thead>\n",
       "    <tr style=\"text-align: right;\">\n",
       "      <th></th>\n",
       "      <th>temp</th>\n",
       "    </tr>\n",
       "    <tr>\n",
       "      <th>date</th>\n",
       "      <th></th>\n",
       "    </tr>\n",
       "  </thead>\n",
       "  <tbody>\n",
       "    <tr>\n",
       "      <th>2010-09-30</th>\n",
       "      <td>62.49</td>\n",
       "    </tr>\n",
       "    <tr>\n",
       "      <th>2010-08-31</th>\n",
       "      <td>62.41</td>\n",
       "    </tr>\n",
       "    <tr>\n",
       "      <th>2010-07-31</th>\n",
       "      <td>61.77</td>\n",
       "    </tr>\n",
       "    <tr>\n",
       "      <th>2010-06-30</th>\n",
       "      <td>60.44</td>\n",
       "    </tr>\n",
       "    <tr>\n",
       "      <th>2010-10-31</th>\n",
       "      <td>60.25</td>\n",
       "    </tr>\n",
       "    <tr>\n",
       "      <th>2010-05-31</th>\n",
       "      <td>57.97</td>\n",
       "    </tr>\n",
       "    <tr>\n",
       "      <th>2010-04-30</th>\n",
       "      <td>55.63</td>\n",
       "    </tr>\n",
       "    <tr>\n",
       "      <th>2010-11-30</th>\n",
       "      <td>55.19</td>\n",
       "    </tr>\n",
       "    <tr>\n",
       "      <th>2010-03-31</th>\n",
       "      <td>53.96</td>\n",
       "    </tr>\n",
       "    <tr>\n",
       "      <th>2010-02-28</th>\n",
       "      <td>52.24</td>\n",
       "    </tr>\n",
       "    <tr>\n",
       "      <th>2010-12-31</th>\n",
       "      <td>50.50</td>\n",
       "    </tr>\n",
       "    <tr>\n",
       "      <th>2010-01-31</th>\n",
       "      <td>49.98</td>\n",
       "    </tr>\n",
       "  </tbody>\n",
       "</table>\n",
       "</div>"
      ],
      "text/plain": [
       "            temp\n",
       "date            \n",
       "2010-09-30 62.49\n",
       "2010-08-31 62.41\n",
       "2010-07-31 61.77\n",
       "2010-06-30 60.44\n",
       "2010-10-31 60.25\n",
       "2010-05-31 57.97\n",
       "2010-04-30 55.63\n",
       "2010-11-30 55.19\n",
       "2010-03-31 53.96\n",
       "2010-02-28 52.24\n",
       "2010-12-31 50.50\n",
       "2010-01-31 49.98"
      ]
     },
     "execution_count": 26,
     "metadata": {},
     "output_type": "execute_result"
    }
   ],
   "source": [
    "df.resample('M').mean().sort_values(by = 'temp', ascending = False) ## code answer"
   ]
  },
  {
   "cell_type": "code",
   "execution_count": 27,
   "metadata": {},
   "outputs": [
    {
     "data": {
      "text/plain": [
       "<AxesSubplot:xlabel='date'>"
      ]
     },
     "execution_count": 27,
     "metadata": {},
     "output_type": "execute_result"
    },
    {
     "data": {
      "image/png": "[encoded data removed]",
      "text/plain": [
       "<Figure size 576x432 with 1 Axes>"
      ]
     },
     "metadata": {},
     "output_type": "display_data"
    }
   ],
   "source": [
    "df.resample('M').mean().temp.plot() ## visual answer"
   ]
  },
  {
   "cell_type": "markdown",
   "metadata": {},
   "source": [
    "September is the hottest month on average"
   ]
  },
  {
   "cell_type": "markdown",
   "metadata": {},
   "source": [
    "#### Question 6: Resample by the day and calculate the min and max temp for the day (Hint: .agg(['min', 'max'])). Use this resampled dataframe to calculate the change in temperature for the day. Which month has the highest daily temperature variability?"
   ]
  },
  {
   "cell_type": "code",
   "execution_count": 29,
   "metadata": {},
   "outputs": [
    {
     "data": {
      "text/html": [
       "<div>\n",
       "<style scoped>\n",
       "    .dataframe tbody tr th:only-of-type {\n",
       "        vertical-align: middle;\n",
       "    }\n",
       "\n",
       "    .dataframe tbody tr th {\n",
       "        vertical-align: top;\n",
       "    }\n",
       "\n",
       "    .dataframe thead tr th {\n",
       "        text-align: left;\n",
       "    }\n",
       "\n",
       "    .dataframe thead tr:last-of-type th {\n",
       "        text-align: right;\n",
       "    }\n",
       "</style>\n",
       "<table border=\"1\" class=\"dataframe\">\n",
       "  <thead>\n",
       "    <tr>\n",
       "      <th></th>\n",
       "      <th colspan=\"2\" halign=\"left\">temp</th>\n",
       "    </tr>\n",
       "    <tr>\n",
       "      <th></th>\n",
       "      <th>min</th>\n",
       "      <th>max</th>\n",
       "    </tr>\n",
       "    <tr>\n",
       "      <th>date</th>\n",
       "      <th></th>\n",
       "      <th></th>\n",
       "    </tr>\n",
       "  </thead>\n",
       "  <tbody>\n",
       "    <tr>\n",
       "      <th>2010-01-01</th>\n",
       "      <td>45.80</td>\n",
       "      <td>53.30</td>\n",
       "    </tr>\n",
       "    <tr>\n",
       "      <th>2010-01-02</th>\n",
       "      <td>46.00</td>\n",
       "      <td>53.40</td>\n",
       "    </tr>\n",
       "    <tr>\n",
       "      <th>2010-01-03</th>\n",
       "      <td>46.10</td>\n",
       "      <td>53.50</td>\n",
       "    </tr>\n",
       "    <tr>\n",
       "      <th>2010-01-04</th>\n",
       "      <td>46.10</td>\n",
       "      <td>53.60</td>\n",
       "    </tr>\n",
       "    <tr>\n",
       "      <th>2010-01-05</th>\n",
       "      <td>46.10</td>\n",
       "      <td>53.80</td>\n",
       "    </tr>\n",
       "  </tbody>\n",
       "</table>\n",
       "</div>"
      ],
      "text/plain": [
       "            temp      \n",
       "             min   max\n",
       "date                  \n",
       "2010-01-01 45.80 53.30\n",
       "2010-01-02 46.00 53.40\n",
       "2010-01-03 46.10 53.50\n",
       "2010-01-04 46.10 53.60\n",
       "2010-01-05 46.10 53.80"
      ]
     },
     "execution_count": 29,
     "metadata": {},
     "output_type": "execute_result"
    }
   ],
   "source": [
    "diff_df = df.resample('D').agg(['min','max']) ## making my multi index resample\n",
    "\n",
    "diff_df.head()"
   ]
  },
  {
   "cell_type": "code",
   "execution_count": 31,
   "metadata": {},
   "outputs": [
    {
     "data": {
      "text/plain": [
       "MultiIndex([('temp', 'min'),\n",
       "            ('temp', 'max')],\n",
       "           )"
      ]
     },
     "execution_count": 31,
     "metadata": {},
     "output_type": "execute_result"
    }
   ],
   "source": [
    "diff_df.columns ## looking at the multi index formatting"
   ]
  },
  {
   "cell_type": "code",
   "execution_count": 32,
   "metadata": {},
   "outputs": [
    {
     "data": {
      "text/html": [
       "<div>\n",
       "<style scoped>\n",
       "    .dataframe tbody tr th:only-of-type {\n",
       "        vertical-align: middle;\n",
       "    }\n",
       "\n",
       "    .dataframe tbody tr th {\n",
       "        vertical-align: top;\n",
       "    }\n",
       "\n",
       "    .dataframe thead tr th {\n",
       "        text-align: left;\n",
       "    }\n",
       "\n",
       "    .dataframe thead tr:last-of-type th {\n",
       "        text-align: right;\n",
       "    }\n",
       "</style>\n",
       "<table border=\"1\" class=\"dataframe\">\n",
       "  <thead>\n",
       "    <tr>\n",
       "      <th></th>\n",
       "      <th colspan=\"2\" halign=\"left\">temp</th>\n",
       "      <th>variance</th>\n",
       "    </tr>\n",
       "    <tr>\n",
       "      <th></th>\n",
       "      <th>min</th>\n",
       "      <th>max</th>\n",
       "      <th></th>\n",
       "    </tr>\n",
       "    <tr>\n",
       "      <th>date</th>\n",
       "      <th></th>\n",
       "      <th></th>\n",
       "      <th></th>\n",
       "    </tr>\n",
       "  </thead>\n",
       "  <tbody>\n",
       "    <tr>\n",
       "      <th>2010-01-01</th>\n",
       "      <td>45.80</td>\n",
       "      <td>53.30</td>\n",
       "      <td>7.50</td>\n",
       "    </tr>\n",
       "    <tr>\n",
       "      <th>2010-01-02</th>\n",
       "      <td>46.00</td>\n",
       "      <td>53.40</td>\n",
       "      <td>7.40</td>\n",
       "    </tr>\n",
       "    <tr>\n",
       "      <th>2010-01-03</th>\n",
       "      <td>46.10</td>\n",
       "      <td>53.50</td>\n",
       "      <td>7.40</td>\n",
       "    </tr>\n",
       "    <tr>\n",
       "      <th>2010-01-04</th>\n",
       "      <td>46.10</td>\n",
       "      <td>53.60</td>\n",
       "      <td>7.50</td>\n",
       "    </tr>\n",
       "    <tr>\n",
       "      <th>2010-01-05</th>\n",
       "      <td>46.10</td>\n",
       "      <td>53.80</td>\n",
       "      <td>7.70</td>\n",
       "    </tr>\n",
       "  </tbody>\n",
       "</table>\n",
       "</div>"
      ],
      "text/plain": [
       "            temp       variance\n",
       "             min   max         \n",
       "date                           \n",
       "2010-01-01 45.80 53.30     7.50\n",
       "2010-01-02 46.00 53.40     7.40\n",
       "2010-01-03 46.10 53.50     7.40\n",
       "2010-01-04 46.10 53.60     7.50\n",
       "2010-01-05 46.10 53.80     7.70"
      ]
     },
     "execution_count": 32,
     "metadata": {},
     "output_type": "execute_result"
    }
   ],
   "source": [
    "## making my variance column by subtracting the multi indexes\n",
    "\n",
    "diff_df['variance'] = diff_df[('temp', 'max')] - diff_df[('temp', 'min')]\n",
    "\n",
    "diff_df.head()"
   ]
  },
  {
   "cell_type": "code",
   "execution_count": 36,
   "metadata": {},
   "outputs": [
    {
     "data": {
      "text/html": [
       "<div>\n",
       "<style scoped>\n",
       "    .dataframe tbody tr th:only-of-type {\n",
       "        vertical-align: middle;\n",
       "    }\n",
       "\n",
       "    .dataframe tbody tr th {\n",
       "        vertical-align: top;\n",
       "    }\n",
       "\n",
       "    .dataframe thead tr th {\n",
       "        text-align: left;\n",
       "    }\n",
       "\n",
       "    .dataframe thead tr:last-of-type th {\n",
       "        text-align: right;\n",
       "    }\n",
       "</style>\n",
       "<table border=\"1\" class=\"dataframe\">\n",
       "  <thead>\n",
       "    <tr>\n",
       "      <th></th>\n",
       "      <th colspan=\"2\" halign=\"left\">temp</th>\n",
       "      <th>variance</th>\n",
       "    </tr>\n",
       "    <tr>\n",
       "      <th></th>\n",
       "      <th>min</th>\n",
       "      <th>max</th>\n",
       "      <th></th>\n",
       "    </tr>\n",
       "    <tr>\n",
       "      <th>date</th>\n",
       "      <th></th>\n",
       "      <th></th>\n",
       "      <th></th>\n",
       "    </tr>\n",
       "  </thead>\n",
       "  <tbody>\n",
       "    <tr>\n",
       "      <th>2010-09-30</th>\n",
       "      <td>56.90</td>\n",
       "      <td>71.31</td>\n",
       "      <td>14.40</td>\n",
       "    </tr>\n",
       "    <tr>\n",
       "      <th>2010-07-31</th>\n",
       "      <td>56.05</td>\n",
       "      <td>70.02</td>\n",
       "      <td>13.98</td>\n",
       "    </tr>\n",
       "    <tr>\n",
       "      <th>2010-06-30</th>\n",
       "      <td>54.48</td>\n",
       "      <td>68.43</td>\n",
       "      <td>13.95</td>\n",
       "    </tr>\n",
       "    <tr>\n",
       "      <th>2010-08-31</th>\n",
       "      <td>56.94</td>\n",
       "      <td>70.81</td>\n",
       "      <td>13.87</td>\n",
       "    </tr>\n",
       "    <tr>\n",
       "      <th>2010-10-31</th>\n",
       "      <td>54.93</td>\n",
       "      <td>68.36</td>\n",
       "      <td>13.43</td>\n",
       "    </tr>\n",
       "    <tr>\n",
       "      <th>2010-05-31</th>\n",
       "      <td>52.40</td>\n",
       "      <td>65.31</td>\n",
       "      <td>12.91</td>\n",
       "    </tr>\n",
       "    <tr>\n",
       "      <th>2010-04-30</th>\n",
       "      <td>50.33</td>\n",
       "      <td>62.65</td>\n",
       "      <td>12.32</td>\n",
       "    </tr>\n",
       "    <tr>\n",
       "      <th>2010-03-31</th>\n",
       "      <td>49.24</td>\n",
       "      <td>60.09</td>\n",
       "      <td>10.85</td>\n",
       "    </tr>\n",
       "    <tr>\n",
       "      <th>2010-11-30</th>\n",
       "      <td>50.78</td>\n",
       "      <td>61.01</td>\n",
       "      <td>10.24</td>\n",
       "    </tr>\n",
       "    <tr>\n",
       "      <th>2010-02-28</th>\n",
       "      <td>48.06</td>\n",
       "      <td>57.55</td>\n",
       "      <td>9.49</td>\n",
       "    </tr>\n",
       "    <tr>\n",
       "      <th>2010-01-31</th>\n",
       "      <td>46.31</td>\n",
       "      <td>54.65</td>\n",
       "      <td>8.34</td>\n",
       "    </tr>\n",
       "    <tr>\n",
       "      <th>2010-12-31</th>\n",
       "      <td>47.03</td>\n",
       "      <td>54.95</td>\n",
       "      <td>7.93</td>\n",
       "    </tr>\n",
       "  </tbody>\n",
       "</table>\n",
       "</div>"
      ],
      "text/plain": [
       "            temp       variance\n",
       "             min   max         \n",
       "date                           \n",
       "2010-09-30 56.90 71.31    14.40\n",
       "2010-07-31 56.05 70.02    13.98\n",
       "2010-06-30 54.48 68.43    13.95\n",
       "2010-08-31 56.94 70.81    13.87\n",
       "2010-10-31 54.93 68.36    13.43\n",
       "2010-05-31 52.40 65.31    12.91\n",
       "2010-04-30 50.33 62.65    12.32\n",
       "2010-03-31 49.24 60.09    10.85\n",
       "2010-11-30 50.78 61.01    10.24\n",
       "2010-02-28 48.06 57.55     9.49\n",
       "2010-01-31 46.31 54.65     8.34\n",
       "2010-12-31 47.03 54.95     7.93"
      ]
     },
     "execution_count": 36,
     "metadata": {},
     "output_type": "execute_result"
    }
   ],
   "source": [
    "## code answer by resampling by month and sorting the average in desceding order\n",
    "\n",
    "diff_df.resample('M').mean().sort_values(by = 'variance', ascending = False)"
   ]
  },
  {
   "cell_type": "code",
   "execution_count": 37,
   "metadata": {},
   "outputs": [
    {
     "data": {
      "text/plain": [
       "<AxesSubplot:xlabel='date'>"
      ]
     },
     "execution_count": 37,
     "metadata": {},
     "output_type": "execute_result"
    },
    {
     "data": {
      "image/png": "[encoded data removed]",
      "text/plain": [
       "<Figure size 576x432 with 1 Axes>"
      ]
     },
     "metadata": {},
     "output_type": "display_data"
    }
   ],
   "source": [
    "diff_df.resample('M').mean().variance.plot()"
   ]
  },
  {
   "cell_type": "markdown",
   "metadata": {},
   "source": [
    "The month with the highest daily temperature variability is September"
   ]
  },
  {
   "cell_type": "markdown",
   "metadata": {},
   "source": [
    "### Seattle Weather dataset"
   ]
  },
  {
   "cell_type": "code",
   "execution_count": 40,
   "metadata": {},
   "outputs": [
    {
     "data": {
      "text/html": [
       "<div>\n",
       "<style scoped>\n",
       "    .dataframe tbody tr th:only-of-type {\n",
       "        vertical-align: middle;\n",
       "    }\n",
       "\n",
       "    .dataframe tbody tr th {\n",
       "        vertical-align: top;\n",
       "    }\n",
       "\n",
       "    .dataframe thead th {\n",
       "        text-align: right;\n",
       "    }\n",
       "</style>\n",
       "<table border=\"1\" class=\"dataframe\">\n",
       "  <thead>\n",
       "    <tr style=\"text-align: right;\">\n",
       "      <th></th>\n",
       "      <th>date</th>\n",
       "      <th>precipitation</th>\n",
       "      <th>temp_max</th>\n",
       "      <th>temp_min</th>\n",
       "      <th>wind</th>\n",
       "      <th>weather</th>\n",
       "    </tr>\n",
       "  </thead>\n",
       "  <tbody>\n",
       "    <tr>\n",
       "      <th>0</th>\n",
       "      <td>2012-01-01</td>\n",
       "      <td>0.00</td>\n",
       "      <td>12.80</td>\n",
       "      <td>5.00</td>\n",
       "      <td>4.70</td>\n",
       "      <td>drizzle</td>\n",
       "    </tr>\n",
       "    <tr>\n",
       "      <th>1</th>\n",
       "      <td>2012-01-02</td>\n",
       "      <td>10.90</td>\n",
       "      <td>10.60</td>\n",
       "      <td>2.80</td>\n",
       "      <td>4.50</td>\n",
       "      <td>rain</td>\n",
       "    </tr>\n",
       "    <tr>\n",
       "      <th>2</th>\n",
       "      <td>2012-01-03</td>\n",
       "      <td>0.80</td>\n",
       "      <td>11.70</td>\n",
       "      <td>7.20</td>\n",
       "      <td>2.30</td>\n",
       "      <td>rain</td>\n",
       "    </tr>\n",
       "    <tr>\n",
       "      <th>3</th>\n",
       "      <td>2012-01-04</td>\n",
       "      <td>20.30</td>\n",
       "      <td>12.20</td>\n",
       "      <td>5.60</td>\n",
       "      <td>4.70</td>\n",
       "      <td>rain</td>\n",
       "    </tr>\n",
       "    <tr>\n",
       "      <th>4</th>\n",
       "      <td>2012-01-05</td>\n",
       "      <td>1.30</td>\n",
       "      <td>8.90</td>\n",
       "      <td>2.80</td>\n",
       "      <td>6.10</td>\n",
       "      <td>rain</td>\n",
       "    </tr>\n",
       "  </tbody>\n",
       "</table>\n",
       "</div>"
      ],
      "text/plain": [
       "        date  precipitation  temp_max  temp_min  wind  weather\n",
       "0 2012-01-01           0.00     12.80      5.00  4.70  drizzle\n",
       "1 2012-01-02          10.90     10.60      2.80  4.50     rain\n",
       "2 2012-01-03           0.80     11.70      7.20  2.30     rain\n",
       "3 2012-01-04          20.30     12.20      5.60  4.70     rain\n",
       "4 2012-01-05           1.30      8.90      2.80  6.10     rain"
      ]
     },
     "execution_count": 40,
     "metadata": {},
     "output_type": "execute_result"
    }
   ],
   "source": [
    "from vega_datasets import data\n",
    "weather_df = data.seattle_weather()\n",
    "\n",
    "weather_df.head()"
   ]
  },
  {
   "cell_type": "code",
   "execution_count": 39,
   "metadata": {},
   "outputs": [
    {
     "data": {
      "text/plain": [
       "pandas.core.indexes.range.RangeIndex"
      ]
     },
     "execution_count": 39,
     "metadata": {},
     "output_type": "execute_result"
    }
   ],
   "source": [
    "type(weather_df.index)"
   ]
  },
  {
   "cell_type": "code",
   "execution_count": 42,
   "metadata": {},
   "outputs": [
    {
     "data": {
      "text/plain": [
       "0      2012-01-01\n",
       "1      2012-01-02\n",
       "2      2012-01-03\n",
       "3      2012-01-04\n",
       "4      2012-01-05\n",
       "          ...    \n",
       "1456   2015-12-27\n",
       "1457   2015-12-28\n",
       "1458   2015-12-29\n",
       "1459   2015-12-30\n",
       "1460   2015-12-31\n",
       "Name: date, Length: 1461, dtype: datetime64[ns]"
      ]
     },
     "execution_count": 42,
     "metadata": {},
     "output_type": "execute_result"
    }
   ],
   "source": [
    "weather_df.date = pd.to_datetime(weather_df.date, format = '%Y-%m-%d %I-%p') ## converting to date time\n",
    "\n",
    "weather_df.date ## maiking sure we have a date time"
   ]
  },
  {
   "cell_type": "code",
   "execution_count": 43,
   "metadata": {},
   "outputs": [],
   "source": [
    "## setting date as index and sorting for vis purposes\n",
    "\n",
    "weather_df = weather_df.set_index('date').sort_index() "
   ]
  },
  {
   "cell_type": "code",
   "execution_count": 44,
   "metadata": {},
   "outputs": [
    {
     "data": {
      "text/html": [
       "<div>\n",
       "<style scoped>\n",
       "    .dataframe tbody tr th:only-of-type {\n",
       "        vertical-align: middle;\n",
       "    }\n",
       "\n",
       "    .dataframe tbody tr th {\n",
       "        vertical-align: top;\n",
       "    }\n",
       "\n",
       "    .dataframe thead th {\n",
       "        text-align: right;\n",
       "    }\n",
       "</style>\n",
       "<table border=\"1\" class=\"dataframe\">\n",
       "  <thead>\n",
       "    <tr style=\"text-align: right;\">\n",
       "      <th></th>\n",
       "      <th>precipitation</th>\n",
       "      <th>temp_max</th>\n",
       "      <th>temp_min</th>\n",
       "      <th>wind</th>\n",
       "      <th>weather</th>\n",
       "    </tr>\n",
       "    <tr>\n",
       "      <th>date</th>\n",
       "      <th></th>\n",
       "      <th></th>\n",
       "      <th></th>\n",
       "      <th></th>\n",
       "      <th></th>\n",
       "    </tr>\n",
       "  </thead>\n",
       "  <tbody>\n",
       "    <tr>\n",
       "      <th>2012-01-01</th>\n",
       "      <td>0.00</td>\n",
       "      <td>12.80</td>\n",
       "      <td>5.00</td>\n",
       "      <td>4.70</td>\n",
       "      <td>drizzle</td>\n",
       "    </tr>\n",
       "    <tr>\n",
       "      <th>2012-01-02</th>\n",
       "      <td>10.90</td>\n",
       "      <td>10.60</td>\n",
       "      <td>2.80</td>\n",
       "      <td>4.50</td>\n",
       "      <td>rain</td>\n",
       "    </tr>\n",
       "    <tr>\n",
       "      <th>2012-01-03</th>\n",
       "      <td>0.80</td>\n",
       "      <td>11.70</td>\n",
       "      <td>7.20</td>\n",
       "      <td>2.30</td>\n",
       "      <td>rain</td>\n",
       "    </tr>\n",
       "    <tr>\n",
       "      <th>2012-01-04</th>\n",
       "      <td>20.30</td>\n",
       "      <td>12.20</td>\n",
       "      <td>5.60</td>\n",
       "      <td>4.70</td>\n",
       "      <td>rain</td>\n",
       "    </tr>\n",
       "    <tr>\n",
       "      <th>2012-01-05</th>\n",
       "      <td>1.30</td>\n",
       "      <td>8.90</td>\n",
       "      <td>2.80</td>\n",
       "      <td>6.10</td>\n",
       "      <td>rain</td>\n",
       "    </tr>\n",
       "  </tbody>\n",
       "</table>\n",
       "</div>"
      ],
      "text/plain": [
       "            precipitation  temp_max  temp_min  wind  weather\n",
       "date                                                        \n",
       "2012-01-01           0.00     12.80      5.00  4.70  drizzle\n",
       "2012-01-02          10.90     10.60      2.80  4.50     rain\n",
       "2012-01-03           0.80     11.70      7.20  2.30     rain\n",
       "2012-01-04          20.30     12.20      5.60  4.70     rain\n",
       "2012-01-05           1.30      8.90      2.80  6.10     rain"
      ]
     },
     "execution_count": 44,
     "metadata": {},
     "output_type": "execute_result"
    }
   ],
   "source": [
    "weather_df.head()"
   ]
  },
  {
   "cell_type": "markdown",
   "metadata": {},
   "source": [
    "#### Question 1: Which year and month combination has the highest amount of precipitation?\n"
   ]
  },
  {
   "cell_type": "code",
   "execution_count": 60,
   "metadata": {},
   "outputs": [
    {
     "data": {
      "text/html": [
       "<div>\n",
       "<style scoped>\n",
       "    .dataframe tbody tr th:only-of-type {\n",
       "        vertical-align: middle;\n",
       "    }\n",
       "\n",
       "    .dataframe tbody tr th {\n",
       "        vertical-align: top;\n",
       "    }\n",
       "\n",
       "    .dataframe thead th {\n",
       "        text-align: right;\n",
       "    }\n",
       "</style>\n",
       "<table border=\"1\" class=\"dataframe\">\n",
       "  <thead>\n",
       "    <tr style=\"text-align: right;\">\n",
       "      <th></th>\n",
       "      <th>precipitation</th>\n",
       "      <th>temp_max</th>\n",
       "      <th>temp_min</th>\n",
       "      <th>wind</th>\n",
       "    </tr>\n",
       "    <tr>\n",
       "      <th>date</th>\n",
       "      <th></th>\n",
       "      <th></th>\n",
       "      <th></th>\n",
       "      <th></th>\n",
       "    </tr>\n",
       "  </thead>\n",
       "  <tbody>\n",
       "    <tr>\n",
       "      <th>2015-12-31</th>\n",
       "      <td>9.18</td>\n",
       "      <td>8.38</td>\n",
       "      <td>3.83</td>\n",
       "      <td>4.34</td>\n",
       "    </tr>\n",
       "    <tr>\n",
       "      <th>2014-03-31</th>\n",
       "      <td>7.74</td>\n",
       "      <td>12.91</td>\n",
       "      <td>5.43</td>\n",
       "      <td>3.68</td>\n",
       "    </tr>\n",
       "    <tr>\n",
       "      <th>2015-11-30</th>\n",
       "      <td>7.09</td>\n",
       "      <td>9.68</td>\n",
       "      <td>3.48</td>\n",
       "      <td>3.55</td>\n",
       "    </tr>\n",
       "    <tr>\n",
       "      <th>2012-11-30</th>\n",
       "      <td>7.02</td>\n",
       "      <td>11.33</td>\n",
       "      <td>5.23</td>\n",
       "      <td>3.22</td>\n",
       "    </tr>\n",
       "    <tr>\n",
       "      <th>2012-03-31</th>\n",
       "      <td>5.90</td>\n",
       "      <td>9.55</td>\n",
       "      <td>2.84</td>\n",
       "      <td>4.25</td>\n",
       "    </tr>\n",
       "    <tr>\n",
       "      <th>2012-12-31</th>\n",
       "      <td>5.61</td>\n",
       "      <td>7.24</td>\n",
       "      <td>3.29</td>\n",
       "      <td>3.83</td>\n",
       "    </tr>\n",
       "    <tr>\n",
       "      <th>2012-01-31</th>\n",
       "      <td>5.59</td>\n",
       "      <td>7.05</td>\n",
       "      <td>1.54</td>\n",
       "      <td>3.90</td>\n",
       "    </tr>\n",
       "    <tr>\n",
       "      <th>2014-02-28</th>\n",
       "      <td>5.54</td>\n",
       "      <td>8.20</td>\n",
       "      <td>2.64</td>\n",
       "      <td>4.53</td>\n",
       "    </tr>\n",
       "    <tr>\n",
       "      <th>2014-10-31</th>\n",
       "      <td>5.53</td>\n",
       "      <td>17.96</td>\n",
       "      <td>10.88</td>\n",
       "      <td>2.92</td>\n",
       "    </tr>\n",
       "    <tr>\n",
       "      <th>2012-10-31</th>\n",
       "      <td>5.49</td>\n",
       "      <td>15.83</td>\n",
       "      <td>8.38</td>\n",
       "      <td>3.53</td>\n",
       "    </tr>\n",
       "    <tr>\n",
       "      <th>2013-09-30</th>\n",
       "      <td>5.23</td>\n",
       "      <td>21.36</td>\n",
       "      <td>13.59</td>\n",
       "      <td>3.01</td>\n",
       "    </tr>\n",
       "    <tr>\n",
       "      <th>2013-04-30</th>\n",
       "      <td>4.99</td>\n",
       "      <td>14.24</td>\n",
       "      <td>6.70</td>\n",
       "      <td>3.71</td>\n",
       "    </tr>\n",
       "    <tr>\n",
       "      <th>2015-02-28</th>\n",
       "      <td>4.79</td>\n",
       "      <td>12.52</td>\n",
       "      <td>6.09</td>\n",
       "      <td>3.08</td>\n",
       "    </tr>\n",
       "    <tr>\n",
       "      <th>2014-11-30</th>\n",
       "      <td>4.10</td>\n",
       "      <td>11.03</td>\n",
       "      <td>4.51</td>\n",
       "      <td>3.98</td>\n",
       "    </tr>\n",
       "    <tr>\n",
       "      <th>2015-10-31</th>\n",
       "      <td>3.95</td>\n",
       "      <td>17.54</td>\n",
       "      <td>10.50</td>\n",
       "      <td>3.04</td>\n",
       "    </tr>\n",
       "    <tr>\n",
       "      <th>2014-12-31</th>\n",
       "      <td>3.93</td>\n",
       "      <td>10.14</td>\n",
       "      <td>4.61</td>\n",
       "      <td>3.56</td>\n",
       "    </tr>\n",
       "    <tr>\n",
       "      <th>2015-03-31</th>\n",
       "      <td>3.66</td>\n",
       "      <td>14.38</td>\n",
       "      <td>6.19</td>\n",
       "      <td>2.93</td>\n",
       "    </tr>\n",
       "    <tr>\n",
       "      <th>2014-04-30</th>\n",
       "      <td>3.54</td>\n",
       "      <td>15.46</td>\n",
       "      <td>6.73</td>\n",
       "      <td>3.70</td>\n",
       "    </tr>\n",
       "    <tr>\n",
       "      <th>2013-01-31</th>\n",
       "      <td>3.41</td>\n",
       "      <td>6.11</td>\n",
       "      <td>0.80</td>\n",
       "      <td>2.88</td>\n",
       "    </tr>\n",
       "    <tr>\n",
       "      <th>2013-11-30</th>\n",
       "      <td>3.21</td>\n",
       "      <td>12.05</td>\n",
       "      <td>5.59</td>\n",
       "      <td>3.18</td>\n",
       "    </tr>\n",
       "    <tr>\n",
       "      <th>2012-02-29</th>\n",
       "      <td>3.18</td>\n",
       "      <td>9.28</td>\n",
       "      <td>3.20</td>\n",
       "      <td>3.90</td>\n",
       "    </tr>\n",
       "    <tr>\n",
       "      <th>2014-01-31</th>\n",
       "      <td>3.03</td>\n",
       "      <td>9.60</td>\n",
       "      <td>4.10</td>\n",
       "      <td>3.35</td>\n",
       "    </tr>\n",
       "    <tr>\n",
       "      <th>2015-01-31</th>\n",
       "      <td>3.00</td>\n",
       "      <td>10.15</td>\n",
       "      <td>4.35</td>\n",
       "      <td>2.43</td>\n",
       "    </tr>\n",
       "    <tr>\n",
       "      <th>2015-08-31</th>\n",
       "      <td>2.69</td>\n",
       "      <td>26.09</td>\n",
       "      <td>14.69</td>\n",
       "      <td>3.15</td>\n",
       "    </tr>\n",
       "    <tr>\n",
       "      <th>2014-05-31</th>\n",
       "      <td>2.58</td>\n",
       "      <td>19.87</td>\n",
       "      <td>10.22</td>\n",
       "      <td>3.15</td>\n",
       "    </tr>\n",
       "    <tr>\n",
       "      <th>2012-06-30</th>\n",
       "      <td>2.50</td>\n",
       "      <td>18.69</td>\n",
       "      <td>10.48</td>\n",
       "      <td>3.08</td>\n",
       "    </tr>\n",
       "    <tr>\n",
       "      <th>2012-04-30</th>\n",
       "      <td>2.27</td>\n",
       "      <td>14.87</td>\n",
       "      <td>5.99</td>\n",
       "      <td>3.37</td>\n",
       "    </tr>\n",
       "    <tr>\n",
       "      <th>2013-03-31</th>\n",
       "      <td>2.25</td>\n",
       "      <td>12.71</td>\n",
       "      <td>4.98</td>\n",
       "      <td>3.46</td>\n",
       "    </tr>\n",
       "    <tr>\n",
       "      <th>2013-05-31</th>\n",
       "      <td>1.95</td>\n",
       "      <td>19.63</td>\n",
       "      <td>9.92</td>\n",
       "      <td>3.16</td>\n",
       "    </tr>\n",
       "    <tr>\n",
       "      <th>2014-09-30</th>\n",
       "      <td>1.89</td>\n",
       "      <td>23.16</td>\n",
       "      <td>13.23</td>\n",
       "      <td>3.14</td>\n",
       "    </tr>\n",
       "    <tr>\n",
       "      <th>2015-04-30</th>\n",
       "      <td>1.72</td>\n",
       "      <td>15.50</td>\n",
       "      <td>6.03</td>\n",
       "      <td>3.31</td>\n",
       "    </tr>\n",
       "    <tr>\n",
       "      <th>2012-05-31</th>\n",
       "      <td>1.68</td>\n",
       "      <td>17.66</td>\n",
       "      <td>8.19</td>\n",
       "      <td>3.35</td>\n",
       "    </tr>\n",
       "    <tr>\n",
       "      <th>2014-08-31</th>\n",
       "      <td>1.48</td>\n",
       "      <td>26.38</td>\n",
       "      <td>14.89</td>\n",
       "      <td>2.48</td>\n",
       "    </tr>\n",
       "    <tr>\n",
       "      <th>2013-02-28</th>\n",
       "      <td>1.44</td>\n",
       "      <td>9.47</td>\n",
       "      <td>4.33</td>\n",
       "      <td>3.63</td>\n",
       "    </tr>\n",
       "    <tr>\n",
       "      <th>2013-12-31</th>\n",
       "      <td>1.37</td>\n",
       "      <td>7.02</td>\n",
       "      <td>1.57</td>\n",
       "      <td>2.74</td>\n",
       "    </tr>\n",
       "    <tr>\n",
       "      <th>2013-10-31</th>\n",
       "      <td>1.26</td>\n",
       "      <td>14.23</td>\n",
       "      <td>7.64</td>\n",
       "      <td>2.27</td>\n",
       "    </tr>\n",
       "    <tr>\n",
       "      <th>2013-08-31</th>\n",
       "      <td>1.11</td>\n",
       "      <td>26.12</td>\n",
       "      <td>15.48</td>\n",
       "      <td>2.54</td>\n",
       "    </tr>\n",
       "    <tr>\n",
       "      <th>2013-06-30</th>\n",
       "      <td>1.10</td>\n",
       "      <td>23.25</td>\n",
       "      <td>13.16</td>\n",
       "      <td>3.00</td>\n",
       "    </tr>\n",
       "    <tr>\n",
       "      <th>2012-07-31</th>\n",
       "      <td>0.85</td>\n",
       "      <td>22.91</td>\n",
       "      <td>12.93</td>\n",
       "      <td>2.88</td>\n",
       "    </tr>\n",
       "    <tr>\n",
       "      <th>2015-09-30</th>\n",
       "      <td>0.70</td>\n",
       "      <td>20.29</td>\n",
       "      <td>11.37</td>\n",
       "      <td>3.05</td>\n",
       "    </tr>\n",
       "    <tr>\n",
       "      <th>2014-07-31</th>\n",
       "      <td>0.63</td>\n",
       "      <td>26.90</td>\n",
       "      <td>14.43</td>\n",
       "      <td>3.10</td>\n",
       "    </tr>\n",
       "    <tr>\n",
       "      <th>2014-06-30</th>\n",
       "      <td>0.63</td>\n",
       "      <td>21.59</td>\n",
       "      <td>11.76</td>\n",
       "      <td>3.19</td>\n",
       "    </tr>\n",
       "    <tr>\n",
       "      <th>2015-05-31</th>\n",
       "      <td>0.48</td>\n",
       "      <td>20.03</td>\n",
       "      <td>10.13</td>\n",
       "      <td>2.81</td>\n",
       "    </tr>\n",
       "    <tr>\n",
       "      <th>2015-06-30</th>\n",
       "      <td>0.20</td>\n",
       "      <td>26.06</td>\n",
       "      <td>13.58</td>\n",
       "      <td>3.25</td>\n",
       "    </tr>\n",
       "    <tr>\n",
       "      <th>2015-07-31</th>\n",
       "      <td>0.07</td>\n",
       "      <td>28.09</td>\n",
       "      <td>15.50</td>\n",
       "      <td>2.98</td>\n",
       "    </tr>\n",
       "    <tr>\n",
       "      <th>2012-09-30</th>\n",
       "      <td>0.03</td>\n",
       "      <td>22.88</td>\n",
       "      <td>11.24</td>\n",
       "      <td>2.65</td>\n",
       "    </tr>\n",
       "    <tr>\n",
       "      <th>2013-07-31</th>\n",
       "      <td>0.00</td>\n",
       "      <td>26.09</td>\n",
       "      <td>13.93</td>\n",
       "      <td>2.69</td>\n",
       "    </tr>\n",
       "    <tr>\n",
       "      <th>2012-08-31</th>\n",
       "      <td>0.00</td>\n",
       "      <td>25.86</td>\n",
       "      <td>14.01</td>\n",
       "      <td>2.83</td>\n",
       "    </tr>\n",
       "  </tbody>\n",
       "</table>\n",
       "</div>"
      ],
      "text/plain": [
       "            precipitation  temp_max  temp_min  wind\n",
       "date                                               \n",
       "2015-12-31           9.18      8.38      3.83  4.34\n",
       "2014-03-31           7.74     12.91      5.43  3.68\n",
       "2015-11-30           7.09      9.68      3.48  3.55\n",
       "2012-11-30           7.02     11.33      5.23  3.22\n",
       "2012-03-31           5.90      9.55      2.84  4.25\n",
       "2012-12-31           5.61      7.24      3.29  3.83\n",
       "2012-01-31           5.59      7.05      1.54  3.90\n",
       "2014-02-28           5.54      8.20      2.64  4.53\n",
       "2014-10-31           5.53     17.96     10.88  2.92\n",
       "2012-10-31           5.49     15.83      8.38  3.53\n",
       "2013-09-30           5.23     21.36     13.59  3.01\n",
       "2013-04-30           4.99     14.24      6.70  3.71\n",
       "2015-02-28           4.79     12.52      6.09  3.08\n",
       "2014-11-30           4.10     11.03      4.51  3.98\n",
       "2015-10-31           3.95     17.54     10.50  3.04\n",
       "2014-12-31           3.93     10.14      4.61  3.56\n",
       "2015-03-31           3.66     14.38      6.19  2.93\n",
       "2014-04-30           3.54     15.46      6.73  3.70\n",
       "2013-01-31           3.41      6.11      0.80  2.88\n",
       "2013-11-30           3.21     12.05      5.59  3.18\n",
       "2012-02-29           3.18      9.28      3.20  3.90\n",
       "2014-01-31           3.03      9.60      4.10  3.35\n",
       "2015-01-31           3.00     10.15      4.35  2.43\n",
       "2015-08-31           2.69     26.09     14.69  3.15\n",
       "2014-05-31           2.58     19.87     10.22  3.15\n",
       "2012-06-30           2.50     18.69     10.48  3.08\n",
       "2012-04-30           2.27     14.87      5.99  3.37\n",
       "2013-03-31           2.25     12.71      4.98  3.46\n",
       "2013-05-31           1.95     19.63      9.92  3.16\n",
       "2014-09-30           1.89     23.16     13.23  3.14\n",
       "2015-04-30           1.72     15.50      6.03  3.31\n",
       "2012-05-31           1.68     17.66      8.19  3.35\n",
       "2014-08-31           1.48     26.38     14.89  2.48\n",
       "2013-02-28           1.44      9.47      4.33  3.63\n",
       "2013-12-31           1.37      7.02      1.57  2.74\n",
       "2013-10-31           1.26     14.23      7.64  2.27\n",
       "2013-08-31           1.11     26.12     15.48  2.54\n",
       "2013-06-30           1.10     23.25     13.16  3.00\n",
       "2012-07-31           0.85     22.91     12.93  2.88\n",
       "2015-09-30           0.70     20.29     11.37  3.05\n",
       "2014-07-31           0.63     26.90     14.43  3.10\n",
       "2014-06-30           0.63     21.59     11.76  3.19\n",
       "2015-05-31           0.48     20.03     10.13  2.81\n",
       "2015-06-30           0.20     26.06     13.58  3.25\n",
       "2015-07-31           0.07     28.09     15.50  2.98\n",
       "2012-09-30           0.03     22.88     11.24  2.65\n",
       "2013-07-31           0.00     26.09     13.93  2.69\n",
       "2012-08-31           0.00     25.86     14.01  2.83"
      ]
     },
     "execution_count": 60,
     "metadata": {},
     "output_type": "execute_result"
    }
   ],
   "source": [
    "weather_df.resample('M').mean().sort_values(by = 'precipitation', ascending = False)"
   ]
  },
  {
   "cell_type": "code",
   "execution_count": 63,
   "metadata": {},
   "outputs": [
    {
     "data": {
      "text/html": [
       "<div>\n",
       "<style scoped>\n",
       "    .dataframe tbody tr th:only-of-type {\n",
       "        vertical-align: middle;\n",
       "    }\n",
       "\n",
       "    .dataframe tbody tr th {\n",
       "        vertical-align: top;\n",
       "    }\n",
       "\n",
       "    .dataframe thead th {\n",
       "        text-align: right;\n",
       "    }\n",
       "</style>\n",
       "<table border=\"1\" class=\"dataframe\">\n",
       "  <thead>\n",
       "    <tr style=\"text-align: right;\">\n",
       "      <th></th>\n",
       "      <th>precipitation</th>\n",
       "      <th>temp_max</th>\n",
       "      <th>temp_min</th>\n",
       "      <th>wind</th>\n",
       "    </tr>\n",
       "    <tr>\n",
       "      <th>date</th>\n",
       "      <th></th>\n",
       "      <th></th>\n",
       "      <th></th>\n",
       "      <th></th>\n",
       "    </tr>\n",
       "  </thead>\n",
       "  <tbody>\n",
       "    <tr>\n",
       "      <th>2014-12-31</th>\n",
       "      <td>3.38</td>\n",
       "      <td>17.00</td>\n",
       "      <td>8.66</td>\n",
       "      <td>3.39</td>\n",
       "    </tr>\n",
       "    <tr>\n",
       "      <th>2012-12-31</th>\n",
       "      <td>3.35</td>\n",
       "      <td>15.28</td>\n",
       "      <td>7.29</td>\n",
       "      <td>3.40</td>\n",
       "    </tr>\n",
       "    <tr>\n",
       "      <th>2015-12-31</th>\n",
       "      <td>3.12</td>\n",
       "      <td>17.43</td>\n",
       "      <td>8.84</td>\n",
       "      <td>3.16</td>\n",
       "    </tr>\n",
       "    <tr>\n",
       "      <th>2013-12-31</th>\n",
       "      <td>2.27</td>\n",
       "      <td>16.06</td>\n",
       "      <td>8.15</td>\n",
       "      <td>3.02</td>\n",
       "    </tr>\n",
       "  </tbody>\n",
       "</table>\n",
       "</div>"
      ],
      "text/plain": [
       "            precipitation  temp_max  temp_min  wind\n",
       "date                                               \n",
       "2014-12-31           3.38     17.00      8.66  3.39\n",
       "2012-12-31           3.35     15.28      7.29  3.40\n",
       "2015-12-31           3.12     17.43      8.84  3.16\n",
       "2013-12-31           2.27     16.06      8.15  3.02"
      ]
     },
     "execution_count": 63,
     "metadata": {},
     "output_type": "execute_result"
    }
   ],
   "source": [
    "weather_df.resample('Y').mean().sort_values(by = 'precipitation', ascending = False)"
   ]
  },
  {
   "cell_type": "markdown",
   "metadata": {},
   "source": [
    "Demeber has the highest yearly and monthly rain "
   ]
  },
  {
   "cell_type": "markdown",
   "metadata": {},
   "source": [
    "#### Question 2: Visualize the amount of monthly precipitation over time.\n"
   ]
  },
  {
   "cell_type": "code",
   "execution_count": 67,
   "metadata": {},
   "outputs": [
    {
     "data": {
      "text/plain": [
       "<AxesSubplot:xlabel='date'>"
      ]
     },
     "execution_count": 67,
     "metadata": {},
     "output_type": "execute_result"
    },
    {
     "data": {
      "image/png": "[encoded data removed]",
      "text/plain": [
       "<Figure size 576x432 with 1 Axes>"
      ]
     },
     "metadata": {},
     "output_type": "display_data"
    }
   ],
   "source": [
    "weather_df.resample('Y').mean().precipitation.plot()\n"
   ]
  },
  {
   "cell_type": "code",
   "execution_count": 68,
   "metadata": {},
   "outputs": [
    {
     "data": {
      "text/plain": [
       "<AxesSubplot:xlabel='date'>"
      ]
     },
     "execution_count": 68,
     "metadata": {},
     "output_type": "execute_result"
    },
    {
     "data": {
      "image/png": "[encoded data removed]",
      "text/plain": [
       "<Figure size 576x432 with 1 Axes>"
      ]
     },
     "metadata": {},
     "output_type": "display_data"
    }
   ],
   "source": [
    "weather_df.resample('M').mean().precipitation.plot()"
   ]
  },
  {
   "cell_type": "markdown",
   "metadata": {},
   "source": [
    "#### Question 3: Visualize the amount of wind over time. Choose a time interval you think is appropriate.\n"
   ]
  },
  {
   "cell_type": "code",
   "execution_count": 69,
   "metadata": {},
   "outputs": [
    {
     "data": {
      "text/html": [
       "<div>\n",
       "<style scoped>\n",
       "    .dataframe tbody tr th:only-of-type {\n",
       "        vertical-align: middle;\n",
       "    }\n",
       "\n",
       "    .dataframe tbody tr th {\n",
       "        vertical-align: top;\n",
       "    }\n",
       "\n",
       "    .dataframe thead th {\n",
       "        text-align: right;\n",
       "    }\n",
       "</style>\n",
       "<table border=\"1\" class=\"dataframe\">\n",
       "  <thead>\n",
       "    <tr style=\"text-align: right;\">\n",
       "      <th></th>\n",
       "      <th>precipitation</th>\n",
       "      <th>temp_max</th>\n",
       "      <th>temp_min</th>\n",
       "      <th>wind</th>\n",
       "      <th>weather</th>\n",
       "      <th>daily_rain</th>\n",
       "    </tr>\n",
       "    <tr>\n",
       "      <th>date</th>\n",
       "      <th></th>\n",
       "      <th></th>\n",
       "      <th></th>\n",
       "      <th></th>\n",
       "      <th></th>\n",
       "      <th></th>\n",
       "    </tr>\n",
       "  </thead>\n",
       "  <tbody>\n",
       "    <tr>\n",
       "      <th>2012-01-01</th>\n",
       "      <td>0.00</td>\n",
       "      <td>12.80</td>\n",
       "      <td>5.00</td>\n",
       "      <td>4.70</td>\n",
       "      <td>drizzle</td>\n",
       "      <td>(2012-01-01 00:00:00, [0.0])</td>\n",
       "    </tr>\n",
       "    <tr>\n",
       "      <th>2012-01-02</th>\n",
       "      <td>10.90</td>\n",
       "      <td>10.60</td>\n",
       "      <td>2.80</td>\n",
       "      <td>4.50</td>\n",
       "      <td>rain</td>\n",
       "      <td>(2012-01-02 00:00:00, [10.9])</td>\n",
       "    </tr>\n",
       "    <tr>\n",
       "      <th>2012-01-03</th>\n",
       "      <td>0.80</td>\n",
       "      <td>11.70</td>\n",
       "      <td>7.20</td>\n",
       "      <td>2.30</td>\n",
       "      <td>rain</td>\n",
       "      <td>(2012-01-03 00:00:00, [0.8])</td>\n",
       "    </tr>\n",
       "    <tr>\n",
       "      <th>2012-01-04</th>\n",
       "      <td>20.30</td>\n",
       "      <td>12.20</td>\n",
       "      <td>5.60</td>\n",
       "      <td>4.70</td>\n",
       "      <td>rain</td>\n",
       "      <td>(2012-01-04 00:00:00, [20.3])</td>\n",
       "    </tr>\n",
       "    <tr>\n",
       "      <th>2012-01-05</th>\n",
       "      <td>1.30</td>\n",
       "      <td>8.90</td>\n",
       "      <td>2.80</td>\n",
       "      <td>6.10</td>\n",
       "      <td>rain</td>\n",
       "      <td>(2012-01-05 00:00:00, [1.3])</td>\n",
       "    </tr>\n",
       "  </tbody>\n",
       "</table>\n",
       "</div>"
      ],
      "text/plain": [
       "            precipitation  temp_max  temp_min  wind  weather  \\\n",
       "date                                                           \n",
       "2012-01-01           0.00     12.80      5.00  4.70  drizzle   \n",
       "2012-01-02          10.90     10.60      2.80  4.50     rain   \n",
       "2012-01-03           0.80     11.70      7.20  2.30     rain   \n",
       "2012-01-04          20.30     12.20      5.60  4.70     rain   \n",
       "2012-01-05           1.30      8.90      2.80  6.10     rain   \n",
       "\n",
       "                               daily_rain  \n",
       "date                                       \n",
       "2012-01-01   (2012-01-01 00:00:00, [0.0])  \n",
       "2012-01-02  (2012-01-02 00:00:00, [10.9])  \n",
       "2012-01-03   (2012-01-03 00:00:00, [0.8])  \n",
       "2012-01-04  (2012-01-04 00:00:00, [20.3])  \n",
       "2012-01-05   (2012-01-05 00:00:00, [1.3])  "
      ]
     },
     "execution_count": 69,
     "metadata": {},
     "output_type": "execute_result"
    }
   ],
   "source": [
    "weather_df.head()"
   ]
  },
  {
   "cell_type": "code",
   "execution_count": 97,
   "metadata": {},
   "outputs": [
    {
     "data": {
      "text/plain": [
       "<AxesSubplot:xlabel='date'>"
      ]
     },
     "execution_count": 97,
     "metadata": {},
     "output_type": "execute_result"
    },
    {
     "data": {
      "image/png": "[encoded data removed]",
      "text/plain": [
       "<Figure size 576x432 with 1 Axes>"
      ]
     },
     "metadata": {},
     "output_type": "display_data"
    }
   ],
   "source": [
    "weather_df.resample('Q').mean().wind.plot() ## <-- visualizing quarterly wind changes"
   ]
  },
  {
   "cell_type": "markdown",
   "metadata": {},
   "source": [
    "#### Question 4: Which year-month combination is the windiest?\n"
   ]
  },
  {
   "cell_type": "code",
   "execution_count": 74,
   "metadata": {},
   "outputs": [
    {
     "data": {
      "image/png": "[encoded data removed]",
      "text/plain": [
       "<Figure size 576x432 with 1 Axes>"
      ]
     },
     "metadata": {},
     "output_type": "display_data"
    }
   ],
   "source": [
    "weather_df.resample('Y').mean().wind.plot(label = 'Yearly Wind')\n",
    "weather_df.resample('M').mean().wind.plot(label = 'Monthly Wind')\n",
    "plt.legend()\n",
    "plt.show()"
   ]
  },
  {
   "cell_type": "markdown",
   "metadata": {},
   "source": [
    "January 2012 has the highest wind combination"
   ]
  },
  {
   "cell_type": "markdown",
   "metadata": {},
   "source": [
    "#### Question 5: What's the sunniest year? (Hint: which day has the highest number of days where weather == sun?)\n"
   ]
  },
  {
   "cell_type": "code",
   "execution_count": 83,
   "metadata": {},
   "outputs": [
    {
     "data": {
      "text/html": [
       "<div>\n",
       "<style scoped>\n",
       "    .dataframe tbody tr th:only-of-type {\n",
       "        vertical-align: middle;\n",
       "    }\n",
       "\n",
       "    .dataframe tbody tr th {\n",
       "        vertical-align: top;\n",
       "    }\n",
       "\n",
       "    .dataframe thead th {\n",
       "        text-align: right;\n",
       "    }\n",
       "</style>\n",
       "<table border=\"1\" class=\"dataframe\">\n",
       "  <thead>\n",
       "    <tr style=\"text-align: right;\">\n",
       "      <th></th>\n",
       "      <th>precipitation</th>\n",
       "      <th>temp_max</th>\n",
       "      <th>temp_min</th>\n",
       "      <th>wind</th>\n",
       "      <th>weather</th>\n",
       "    </tr>\n",
       "    <tr>\n",
       "      <th>date</th>\n",
       "      <th></th>\n",
       "      <th></th>\n",
       "      <th></th>\n",
       "      <th></th>\n",
       "      <th></th>\n",
       "    </tr>\n",
       "  </thead>\n",
       "  <tbody>\n",
       "    <tr>\n",
       "      <th>2012-01-01</th>\n",
       "      <td>0.00</td>\n",
       "      <td>12.80</td>\n",
       "      <td>5.00</td>\n",
       "      <td>4.70</td>\n",
       "      <td>drizzle</td>\n",
       "    </tr>\n",
       "    <tr>\n",
       "      <th>2012-01-02</th>\n",
       "      <td>10.90</td>\n",
       "      <td>10.60</td>\n",
       "      <td>2.80</td>\n",
       "      <td>4.50</td>\n",
       "      <td>rain</td>\n",
       "    </tr>\n",
       "    <tr>\n",
       "      <th>2012-01-03</th>\n",
       "      <td>0.80</td>\n",
       "      <td>11.70</td>\n",
       "      <td>7.20</td>\n",
       "      <td>2.30</td>\n",
       "      <td>rain</td>\n",
       "    </tr>\n",
       "    <tr>\n",
       "      <th>2012-01-04</th>\n",
       "      <td>20.30</td>\n",
       "      <td>12.20</td>\n",
       "      <td>5.60</td>\n",
       "      <td>4.70</td>\n",
       "      <td>rain</td>\n",
       "    </tr>\n",
       "    <tr>\n",
       "      <th>2012-01-05</th>\n",
       "      <td>1.30</td>\n",
       "      <td>8.90</td>\n",
       "      <td>2.80</td>\n",
       "      <td>6.10</td>\n",
       "      <td>rain</td>\n",
       "    </tr>\n",
       "    <tr>\n",
       "      <th>...</th>\n",
       "      <td>...</td>\n",
       "      <td>...</td>\n",
       "      <td>...</td>\n",
       "      <td>...</td>\n",
       "      <td>...</td>\n",
       "    </tr>\n",
       "    <tr>\n",
       "      <th>2015-12-27</th>\n",
       "      <td>8.60</td>\n",
       "      <td>4.40</td>\n",
       "      <td>1.70</td>\n",
       "      <td>2.90</td>\n",
       "      <td>fog</td>\n",
       "    </tr>\n",
       "    <tr>\n",
       "      <th>2015-12-28</th>\n",
       "      <td>1.50</td>\n",
       "      <td>5.00</td>\n",
       "      <td>1.70</td>\n",
       "      <td>1.30</td>\n",
       "      <td>fog</td>\n",
       "    </tr>\n",
       "    <tr>\n",
       "      <th>2015-12-29</th>\n",
       "      <td>0.00</td>\n",
       "      <td>7.20</td>\n",
       "      <td>0.60</td>\n",
       "      <td>2.60</td>\n",
       "      <td>fog</td>\n",
       "    </tr>\n",
       "    <tr>\n",
       "      <th>2015-12-30</th>\n",
       "      <td>0.00</td>\n",
       "      <td>5.60</td>\n",
       "      <td>-1.00</td>\n",
       "      <td>3.40</td>\n",
       "      <td>sun</td>\n",
       "    </tr>\n",
       "    <tr>\n",
       "      <th>2015-12-31</th>\n",
       "      <td>0.00</td>\n",
       "      <td>5.60</td>\n",
       "      <td>-2.10</td>\n",
       "      <td>3.50</td>\n",
       "      <td>sun</td>\n",
       "    </tr>\n",
       "  </tbody>\n",
       "</table>\n",
       "<p>1461 rows × 5 columns</p>\n",
       "</div>"
      ],
      "text/plain": [
       "            precipitation  temp_max  temp_min  wind  weather\n",
       "date                                                        \n",
       "2012-01-01           0.00     12.80      5.00  4.70  drizzle\n",
       "2012-01-02          10.90     10.60      2.80  4.50     rain\n",
       "2012-01-03           0.80     11.70      7.20  2.30     rain\n",
       "2012-01-04          20.30     12.20      5.60  4.70     rain\n",
       "2012-01-05           1.30      8.90      2.80  6.10     rain\n",
       "...                   ...       ...       ...   ...      ...\n",
       "2015-12-27           8.60      4.40      1.70  2.90      fog\n",
       "2015-12-28           1.50      5.00      1.70  1.30      fog\n",
       "2015-12-29           0.00      7.20      0.60  2.60      fog\n",
       "2015-12-30           0.00      5.60     -1.00  3.40      sun\n",
       "2015-12-31           0.00      5.60     -2.10  3.50      sun\n",
       "\n",
       "[1461 rows x 5 columns]"
      ]
     },
     "execution_count": 83,
     "metadata": {},
     "output_type": "execute_result"
    }
   ],
   "source": [
    "weather_df.drop(columns = 'daily_rain')"
   ]
  },
  {
   "cell_type": "code",
   "execution_count": 84,
   "metadata": {},
   "outputs": [],
   "source": [
    "sunny_df = weather_df[weather_df.weather == 'sun']"
   ]
  },
  {
   "cell_type": "code",
   "execution_count": 85,
   "metadata": {},
   "outputs": [
    {
     "data": {
      "text/html": [
       "<div>\n",
       "<style scoped>\n",
       "    .dataframe tbody tr th:only-of-type {\n",
       "        vertical-align: middle;\n",
       "    }\n",
       "\n",
       "    .dataframe tbody tr th {\n",
       "        vertical-align: top;\n",
       "    }\n",
       "\n",
       "    .dataframe thead th {\n",
       "        text-align: right;\n",
       "    }\n",
       "</style>\n",
       "<table border=\"1\" class=\"dataframe\">\n",
       "  <thead>\n",
       "    <tr style=\"text-align: right;\">\n",
       "      <th></th>\n",
       "      <th>precipitation</th>\n",
       "      <th>temp_max</th>\n",
       "      <th>temp_min</th>\n",
       "      <th>wind</th>\n",
       "      <th>weather</th>\n",
       "      <th>daily_rain</th>\n",
       "    </tr>\n",
       "    <tr>\n",
       "      <th>date</th>\n",
       "      <th></th>\n",
       "      <th></th>\n",
       "      <th></th>\n",
       "      <th></th>\n",
       "      <th></th>\n",
       "      <th></th>\n",
       "    </tr>\n",
       "  </thead>\n",
       "  <tbody>\n",
       "    <tr>\n",
       "      <th>2012-01-08</th>\n",
       "      <td>0.00</td>\n",
       "      <td>10.00</td>\n",
       "      <td>2.80</td>\n",
       "      <td>2.00</td>\n",
       "      <td>sun</td>\n",
       "      <td>(2012-01-08 00:00:00, [0.0])</td>\n",
       "    </tr>\n",
       "    <tr>\n",
       "      <th>2012-01-11</th>\n",
       "      <td>0.00</td>\n",
       "      <td>6.10</td>\n",
       "      <td>-1.10</td>\n",
       "      <td>5.10</td>\n",
       "      <td>sun</td>\n",
       "      <td>(2012-01-11 00:00:00, [0.0])</td>\n",
       "    </tr>\n",
       "    <tr>\n",
       "      <th>2012-01-12</th>\n",
       "      <td>0.00</td>\n",
       "      <td>6.10</td>\n",
       "      <td>-1.70</td>\n",
       "      <td>1.90</td>\n",
       "      <td>sun</td>\n",
       "      <td>(2012-01-12 00:00:00, [0.0])</td>\n",
       "    </tr>\n",
       "    <tr>\n",
       "      <th>2012-01-13</th>\n",
       "      <td>0.00</td>\n",
       "      <td>5.00</td>\n",
       "      <td>-2.80</td>\n",
       "      <td>1.30</td>\n",
       "      <td>sun</td>\n",
       "      <td>(2012-01-13 00:00:00, [0.0])</td>\n",
       "    </tr>\n",
       "    <tr>\n",
       "      <th>2012-02-02</th>\n",
       "      <td>0.00</td>\n",
       "      <td>8.30</td>\n",
       "      <td>1.70</td>\n",
       "      <td>2.60</td>\n",
       "      <td>sun</td>\n",
       "      <td>(2012-02-02 00:00:00, [0.0])</td>\n",
       "    </tr>\n",
       "  </tbody>\n",
       "</table>\n",
       "</div>"
      ],
      "text/plain": [
       "            precipitation  temp_max  temp_min  wind weather  \\\n",
       "date                                                          \n",
       "2012-01-08           0.00     10.00      2.80  2.00     sun   \n",
       "2012-01-11           0.00      6.10     -1.10  5.10     sun   \n",
       "2012-01-12           0.00      6.10     -1.70  1.90     sun   \n",
       "2012-01-13           0.00      5.00     -2.80  1.30     sun   \n",
       "2012-02-02           0.00      8.30      1.70  2.60     sun   \n",
       "\n",
       "                              daily_rain  \n",
       "date                                      \n",
       "2012-01-08  (2012-01-08 00:00:00, [0.0])  \n",
       "2012-01-11  (2012-01-11 00:00:00, [0.0])  \n",
       "2012-01-12  (2012-01-12 00:00:00, [0.0])  \n",
       "2012-01-13  (2012-01-13 00:00:00, [0.0])  \n",
       "2012-02-02  (2012-02-02 00:00:00, [0.0])  "
      ]
     },
     "execution_count": 85,
     "metadata": {},
     "output_type": "execute_result"
    }
   ],
   "source": [
    "sunny_df.head()"
   ]
  },
  {
   "cell_type": "code",
   "execution_count": 90,
   "metadata": {},
   "outputs": [
    {
     "data": {
      "text/plain": [
       "date        weather\n",
       "2012-12-31  sun        118\n",
       "2013-12-31  sun        205\n",
       "2014-12-31  sun        211\n",
       "2015-12-31  sun        180\n",
       "Name: weather, dtype: int64"
      ]
     },
     "execution_count": 90,
     "metadata": {},
     "output_type": "execute_result"
    }
   ],
   "source": [
    "sunny_df.resample('Y').weather.value_counts()  ## 2014 has the highest amount of sunny days"
   ]
  },
  {
   "cell_type": "markdown",
   "metadata": {},
   "source": [
    "#### Question 6: In which month does it rain the most?\n"
   ]
  },
  {
   "cell_type": "code",
   "execution_count": 87,
   "metadata": {},
   "outputs": [],
   "source": [
    "rainy_df = weather_df[weather_df.weather == 'rain']"
   ]
  },
  {
   "cell_type": "code",
   "execution_count": 93,
   "metadata": {},
   "outputs": [
    {
     "data": {
      "text/plain": [
       "date        weather\n",
       "2012-01-31  rain       18\n",
       "2012-02-29  rain       17\n",
       "2012-03-31  rain       19\n",
       "2012-04-30  rain       19\n",
       "2012-05-31  rain       16\n",
       "2012-06-30  rain       19\n",
       "2012-07-31  rain       12\n",
       "2012-08-31  rain        2\n",
       "2012-09-30  rain        4\n",
       "2012-10-31  rain       17\n",
       "2012-11-30  rain       25\n",
       "2012-12-31  rain       23\n",
       "2013-01-31  rain       16\n",
       "2013-02-28  rain       23\n",
       "2013-03-31  rain       18\n",
       "2013-07-31  rain        1\n",
       "2013-08-31  rain        1\n",
       "2013-10-31  rain        1\n",
       "2014-07-31  rain        1\n",
       "2014-08-31  rain        1\n",
       "2014-10-31  rain        1\n",
       "2015-01-31  rain        1\n",
       "2015-04-30  rain        1\n",
       "2015-08-31  rain        2\n",
       "2015-10-31  rain        1\n",
       "Name: weather, dtype: int64"
      ]
     },
     "execution_count": 93,
     "metadata": {},
     "output_type": "execute_result"
    }
   ],
   "source": [
    "rainy_df.resample('M').weather.value_counts() ## November has the most rainy days"
   ]
  },
  {
   "cell_type": "markdown",
   "metadata": {},
   "source": [
    "#### Question 7: Which month has the most number of days with a non-zero amount of precipitation?\n"
   ]
  },
  {
   "cell_type": "code",
   "execution_count": 105,
   "metadata": {},
   "outputs": [
    {
     "data": {
      "text/plain": [
       "0.00     838\n",
       "0.30      54\n",
       "0.50      40\n",
       "1.00      26\n",
       "1.50      25\n",
       "        ... \n",
       "22.60      1\n",
       "19.80      1\n",
       "12.40      1\n",
       "55.90      1\n",
       "19.10      1\n",
       "Name: precipitation, Length: 111, dtype: int64"
      ]
     },
     "execution_count": 105,
     "metadata": {},
     "output_type": "execute_result"
    }
   ],
   "source": []
  },
  {
   "cell_type": "markdown",
   "metadata": {},
   "source": [
    "### Flights Data"
   ]
  },
  {
   "cell_type": "code",
   "execution_count": 106,
   "metadata": {},
   "outputs": [
    {
     "data": {
      "text/html": [
       "<div>\n",
       "<style scoped>\n",
       "    .dataframe tbody tr th:only-of-type {\n",
       "        vertical-align: middle;\n",
       "    }\n",
       "\n",
       "    .dataframe tbody tr th {\n",
       "        vertical-align: top;\n",
       "    }\n",
       "\n",
       "    .dataframe thead th {\n",
       "        text-align: right;\n",
       "    }\n",
       "</style>\n",
       "<table border=\"1\" class=\"dataframe\">\n",
       "  <thead>\n",
       "    <tr style=\"text-align: right;\">\n",
       "      <th></th>\n",
       "      <th>date</th>\n",
       "      <th>delay</th>\n",
       "      <th>distance</th>\n",
       "      <th>origin</th>\n",
       "      <th>destination</th>\n",
       "    </tr>\n",
       "  </thead>\n",
       "  <tbody>\n",
       "    <tr>\n",
       "      <th>0</th>\n",
       "      <td>2001-01-13 14:56:00</td>\n",
       "      <td>32</td>\n",
       "      <td>417</td>\n",
       "      <td>SAN</td>\n",
       "      <td>SJC</td>\n",
       "    </tr>\n",
       "    <tr>\n",
       "      <th>1</th>\n",
       "      <td>2001-01-31 16:40:00</td>\n",
       "      <td>-5</td>\n",
       "      <td>1093</td>\n",
       "      <td>FLL</td>\n",
       "      <td>ISP</td>\n",
       "    </tr>\n",
       "    <tr>\n",
       "      <th>2</th>\n",
       "      <td>2001-02-11 18:39:00</td>\n",
       "      <td>3</td>\n",
       "      <td>293</td>\n",
       "      <td>LBB</td>\n",
       "      <td>DAL</td>\n",
       "    </tr>\n",
       "    <tr>\n",
       "      <th>3</th>\n",
       "      <td>2001-01-10 21:00:00</td>\n",
       "      <td>-15</td>\n",
       "      <td>550</td>\n",
       "      <td>MSY</td>\n",
       "      <td>MCO</td>\n",
       "    </tr>\n",
       "    <tr>\n",
       "      <th>4</th>\n",
       "      <td>2001-03-30 21:45:00</td>\n",
       "      <td>-2</td>\n",
       "      <td>229</td>\n",
       "      <td>STL</td>\n",
       "      <td>IND</td>\n",
       "    </tr>\n",
       "  </tbody>\n",
       "</table>\n",
       "</div>"
      ],
      "text/plain": [
       "                 date  delay  distance origin destination\n",
       "0 2001-01-13 14:56:00     32       417    SAN         SJC\n",
       "1 2001-01-31 16:40:00     -5      1093    FLL         ISP\n",
       "2 2001-02-11 18:39:00      3       293    LBB         DAL\n",
       "3 2001-01-10 21:00:00    -15       550    MSY         MCO\n",
       "4 2001-03-30 21:45:00     -2       229    STL         IND"
      ]
     },
     "execution_count": 106,
     "metadata": {},
     "output_type": "execute_result"
    }
   ],
   "source": [
    "flights = data.flights_20k()\n",
    "flights.head()"
   ]
  },
  {
   "cell_type": "markdown",
   "metadata": {},
   "source": [
    "#### Question 1: Convert any negative delays to 0.\n"
   ]
  },
  {
   "cell_type": "code",
   "execution_count": 115,
   "metadata": {},
   "outputs": [
    {
     "name": "stderr",
     "output_type": "stream",
     "text": [
      "<ipython-input-115-0a0f9a0e2b20>:1: SettingWithCopyWarning: \n",
      "A value is trying to be set on a copy of a slice from a DataFrame\n",
      "\n",
      "See the caveats in the documentation: https://pandas.pydata.org/pandas-docs/stable/user_guide/indexing.html#returning-a-view-versus-a-copy\n",
      "  flights.delay[flights.delay < 0] = 0\n"
     ]
    },
    {
     "data": {
      "text/plain": [
       "0"
      ]
     },
     "execution_count": 115,
     "metadata": {},
     "output_type": "execute_result"
    }
   ],
   "source": [
    "flights.delay[flights.delay < 0] = 0\n",
    "\n",
    "flights.delay.min()"
   ]
  },
  {
   "cell_type": "markdown",
   "metadata": {},
   "source": [
    "#### Question 2: Which hour of the day has the highest average delay?\n"
   ]
  },
  {
   "cell_type": "code",
   "execution_count": 116,
   "metadata": {},
   "outputs": [],
   "source": [
    "## setting date as index and sorting for vis purposes\n",
    "\n",
    "flights = flights.set_index('date').sort_index() "
   ]
  },
  {
   "cell_type": "code",
   "execution_count": 117,
   "metadata": {},
   "outputs": [
    {
     "data": {
      "text/html": [
       "<div>\n",
       "<style scoped>\n",
       "    .dataframe tbody tr th:only-of-type {\n",
       "        vertical-align: middle;\n",
       "    }\n",
       "\n",
       "    .dataframe tbody tr th {\n",
       "        vertical-align: top;\n",
       "    }\n",
       "\n",
       "    .dataframe thead th {\n",
       "        text-align: right;\n",
       "    }\n",
       "</style>\n",
       "<table border=\"1\" class=\"dataframe\">\n",
       "  <thead>\n",
       "    <tr style=\"text-align: right;\">\n",
       "      <th></th>\n",
       "      <th>delay</th>\n",
       "      <th>distance</th>\n",
       "      <th>origin</th>\n",
       "      <th>destination</th>\n",
       "    </tr>\n",
       "    <tr>\n",
       "      <th>date</th>\n",
       "      <th></th>\n",
       "      <th></th>\n",
       "      <th></th>\n",
       "      <th></th>\n",
       "    </tr>\n",
       "  </thead>\n",
       "  <tbody>\n",
       "    <tr>\n",
       "      <th>2001-01-01 00:01:00</th>\n",
       "      <td>14</td>\n",
       "      <td>405</td>\n",
       "      <td>MCI</td>\n",
       "      <td>MDW</td>\n",
       "    </tr>\n",
       "    <tr>\n",
       "      <th>2001-01-01 06:20:00</th>\n",
       "      <td>0</td>\n",
       "      <td>491</td>\n",
       "      <td>BNA</td>\n",
       "      <td>MCI</td>\n",
       "    </tr>\n",
       "    <tr>\n",
       "      <th>2001-01-01 06:30:00</th>\n",
       "      <td>0</td>\n",
       "      <td>251</td>\n",
       "      <td>MDW</td>\n",
       "      <td>STL</td>\n",
       "    </tr>\n",
       "    <tr>\n",
       "      <th>2001-01-01 07:00:00</th>\n",
       "      <td>0</td>\n",
       "      <td>361</td>\n",
       "      <td>OAK</td>\n",
       "      <td>ONT</td>\n",
       "    </tr>\n",
       "    <tr>\n",
       "      <th>2001-01-01 07:00:00</th>\n",
       "      <td>0</td>\n",
       "      <td>303</td>\n",
       "      <td>MSY</td>\n",
       "      <td>HOU</td>\n",
       "    </tr>\n",
       "  </tbody>\n",
       "</table>\n",
       "</div>"
      ],
      "text/plain": [
       "                     delay  distance origin destination\n",
       "date                                                   \n",
       "2001-01-01 00:01:00     14       405    MCI         MDW\n",
       "2001-01-01 06:20:00      0       491    BNA         MCI\n",
       "2001-01-01 06:30:00      0       251    MDW         STL\n",
       "2001-01-01 07:00:00      0       361    OAK         ONT\n",
       "2001-01-01 07:00:00      0       303    MSY         HOU"
      ]
     },
     "execution_count": 117,
     "metadata": {},
     "output_type": "execute_result"
    }
   ],
   "source": [
    "flights.head()"
   ]
  },
  {
   "cell_type": "code",
   "execution_count": 123,
   "metadata": {},
   "outputs": [
    {
     "data": {
      "text/html": [
       "<div>\n",
       "<style scoped>\n",
       "    .dataframe tbody tr th:only-of-type {\n",
       "        vertical-align: middle;\n",
       "    }\n",
       "\n",
       "    .dataframe tbody tr th {\n",
       "        vertical-align: top;\n",
       "    }\n",
       "\n",
       "    .dataframe thead th {\n",
       "        text-align: right;\n",
       "    }\n",
       "</style>\n",
       "<table border=\"1\" class=\"dataframe\">\n",
       "  <thead>\n",
       "    <tr style=\"text-align: right;\">\n",
       "      <th></th>\n",
       "      <th>delay</th>\n",
       "      <th>distance</th>\n",
       "    </tr>\n",
       "    <tr>\n",
       "      <th>date</th>\n",
       "      <th></th>\n",
       "      <th></th>\n",
       "    </tr>\n",
       "  </thead>\n",
       "  <tbody>\n",
       "    <tr>\n",
       "      <th>2001-02-23 03:00:00</th>\n",
       "      <td>360.00</td>\n",
       "      <td>239.00</td>\n",
       "    </tr>\n",
       "    <tr>\n",
       "      <th>2001-02-25 00:00:00</th>\n",
       "      <td>260.00</td>\n",
       "      <td>368.00</td>\n",
       "    </tr>\n",
       "    <tr>\n",
       "      <th>2001-01-02 03:00:00</th>\n",
       "      <td>245.00</td>\n",
       "      <td>405.00</td>\n",
       "    </tr>\n",
       "    <tr>\n",
       "      <th>2001-02-24 22:00:00</th>\n",
       "      <td>210.00</td>\n",
       "      <td>229.00</td>\n",
       "    </tr>\n",
       "    <tr>\n",
       "      <th>2001-02-22 00:00:00</th>\n",
       "      <td>195.00</td>\n",
       "      <td>535.00</td>\n",
       "    </tr>\n",
       "    <tr>\n",
       "      <th>...</th>\n",
       "      <td>...</td>\n",
       "      <td>...</td>\n",
       "    </tr>\n",
       "    <tr>\n",
       "      <th>2001-03-31 01:00:00</th>\n",
       "      <td>nan</td>\n",
       "      <td>nan</td>\n",
       "    </tr>\n",
       "    <tr>\n",
       "      <th>2001-03-31 02:00:00</th>\n",
       "      <td>nan</td>\n",
       "      <td>nan</td>\n",
       "    </tr>\n",
       "    <tr>\n",
       "      <th>2001-03-31 03:00:00</th>\n",
       "      <td>nan</td>\n",
       "      <td>nan</td>\n",
       "    </tr>\n",
       "    <tr>\n",
       "      <th>2001-03-31 04:00:00</th>\n",
       "      <td>nan</td>\n",
       "      <td>nan</td>\n",
       "    </tr>\n",
       "    <tr>\n",
       "      <th>2001-03-31 05:00:00</th>\n",
       "      <td>nan</td>\n",
       "      <td>nan</td>\n",
       "    </tr>\n",
       "  </tbody>\n",
       "</table>\n",
       "<p>2158 rows × 2 columns</p>\n",
       "</div>"
      ],
      "text/plain": [
       "                     delay  distance\n",
       "date                                \n",
       "2001-02-23 03:00:00 360.00    239.00\n",
       "2001-02-25 00:00:00 260.00    368.00\n",
       "2001-01-02 03:00:00 245.00    405.00\n",
       "2001-02-24 22:00:00 210.00    229.00\n",
       "2001-02-22 00:00:00 195.00    535.00\n",
       "...                    ...       ...\n",
       "2001-03-31 01:00:00    nan       nan\n",
       "2001-03-31 02:00:00    nan       nan\n",
       "2001-03-31 03:00:00    nan       nan\n",
       "2001-03-31 04:00:00    nan       nan\n",
       "2001-03-31 05:00:00    nan       nan\n",
       "\n",
       "[2158 rows x 2 columns]"
      ]
     },
     "execution_count": 123,
     "metadata": {},
     "output_type": "execute_result"
    }
   ],
   "source": [
    "flights.resample('H').mean().sort_values(by = 'delay', ascending = False)\n",
    "\n",
    "\n",
    "## 3 AM"
   ]
  },
  {
   "cell_type": "markdown",
   "metadata": {},
   "source": [
    "#### Question 3: Does the day of the week make a difference in the delay amount?\n"
   ]
  },
  {
   "cell_type": "code",
   "execution_count": 125,
   "metadata": {},
   "outputs": [
    {
     "data": {
      "image/png": "[encoded data removed]",
      "text/plain": [
       "<Figure size 576x432 with 1 Axes>"
      ]
     },
     "metadata": {},
     "output_type": "display_data"
    }
   ],
   "source": [
    "flights.resample('H').mean().delay.plot(label = 'Hourly Resampled Mean')\n",
    "flights.resample('D').mean().delay.plot(label = 'Daily Resampled Mean')\n",
    "plt.legend()\n",
    "plt.show()"
   ]
  },
  {
   "cell_type": "code",
   "execution_count": null,
   "metadata": {},
   "outputs": [],
   "source": []
  }
 ],
 "metadata": {
  "kernelspec": {
   "display_name": "Python 3",
   "language": "python",
   "name": "python3"
  },
  "language_info": {
   "codemirror_mode": {
    "name": "ipython",
    "version": 3
   },
   "file_extension": ".py",
   "mimetype": "text/x-python",
   "name": "python",
   "nbconvert_exporter": "python",
   "pygments_lexer": "ipython3",
   "version": "3.8.5"
  }
 },
 "nbformat": 4,
 "nbformat_minor": 4
}
