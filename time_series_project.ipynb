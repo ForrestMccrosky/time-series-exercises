{
 "cells": [
  {
   "cell_type": "code",
   "execution_count": 1,
   "metadata": {},
   "outputs": [],
   "source": [
    "import pandas as pd\n",
    "import os\n",
    "import requests\n",
    "import matplotlib.pyplot as plt\n",
    "import numpy as np\n",
    "import seaborn as sns\n",
    "import datetime\n",
    "import statsmodels.api as sm"
   ]
  },
  {
   "cell_type": "markdown",
   "metadata": {},
   "source": [
    "## Time Series Mini Project"
   ]
  },
  {
   "cell_type": "markdown",
   "metadata": {},
   "source": [
    "### Acquire"
   ]
  },
  {
   "cell_type": "code",
   "execution_count": 2,
   "metadata": {},
   "outputs": [],
   "source": [
    "## <-- getting our dataframe\n",
    "\n",
    "df = pd.read_csv('GlobalLandTemperaturesByCountry.csv')"
   ]
  },
  {
   "cell_type": "code",
   "execution_count": 3,
   "metadata": {},
   "outputs": [
    {
     "data": {
      "text/html": [
       "<div>\n",
       "<style scoped>\n",
       "    .dataframe tbody tr th:only-of-type {\n",
       "        vertical-align: middle;\n",
       "    }\n",
       "\n",
       "    .dataframe tbody tr th {\n",
       "        vertical-align: top;\n",
       "    }\n",
       "\n",
       "    .dataframe thead th {\n",
       "        text-align: right;\n",
       "    }\n",
       "</style>\n",
       "<table border=\"1\" class=\"dataframe\">\n",
       "  <thead>\n",
       "    <tr style=\"text-align: right;\">\n",
       "      <th></th>\n",
       "      <th>dt</th>\n",
       "      <th>AverageTemperature</th>\n",
       "      <th>AverageTemperatureUncertainty</th>\n",
       "      <th>Country</th>\n",
       "    </tr>\n",
       "  </thead>\n",
       "  <tbody>\n",
       "    <tr>\n",
       "      <th>0</th>\n",
       "      <td>1743-11-01</td>\n",
       "      <td>4.384</td>\n",
       "      <td>2.294</td>\n",
       "      <td>Åland</td>\n",
       "    </tr>\n",
       "    <tr>\n",
       "      <th>1</th>\n",
       "      <td>1743-12-01</td>\n",
       "      <td>NaN</td>\n",
       "      <td>NaN</td>\n",
       "      <td>Åland</td>\n",
       "    </tr>\n",
       "    <tr>\n",
       "      <th>2</th>\n",
       "      <td>1744-01-01</td>\n",
       "      <td>NaN</td>\n",
       "      <td>NaN</td>\n",
       "      <td>Åland</td>\n",
       "    </tr>\n",
       "    <tr>\n",
       "      <th>3</th>\n",
       "      <td>1744-02-01</td>\n",
       "      <td>NaN</td>\n",
       "      <td>NaN</td>\n",
       "      <td>Åland</td>\n",
       "    </tr>\n",
       "    <tr>\n",
       "      <th>4</th>\n",
       "      <td>1744-03-01</td>\n",
       "      <td>NaN</td>\n",
       "      <td>NaN</td>\n",
       "      <td>Åland</td>\n",
       "    </tr>\n",
       "  </tbody>\n",
       "</table>\n",
       "</div>"
      ],
      "text/plain": [
       "           dt  AverageTemperature  AverageTemperatureUncertainty Country\n",
       "0  1743-11-01               4.384                          2.294   Åland\n",
       "1  1743-12-01                 NaN                            NaN   Åland\n",
       "2  1744-01-01                 NaN                            NaN   Åland\n",
       "3  1744-02-01                 NaN                            NaN   Åland\n",
       "4  1744-03-01                 NaN                            NaN   Åland"
      ]
     },
     "execution_count": 3,
     "metadata": {},
     "output_type": "execute_result"
    }
   ],
   "source": [
    "df.head() ## <-- looking at our dataframe"
   ]
  },
  {
   "cell_type": "code",
   "execution_count": 4,
   "metadata": {},
   "outputs": [
    {
     "name": "stdout",
     "output_type": "stream",
     "text": [
      "<class 'pandas.core.frame.DataFrame'>\n",
      "RangeIndex: 577462 entries, 0 to 577461\n",
      "Data columns (total 4 columns):\n",
      " #   Column                         Non-Null Count   Dtype  \n",
      "---  ------                         --------------   -----  \n",
      " 0   dt                             577462 non-null  object \n",
      " 1   AverageTemperature             544811 non-null  float64\n",
      " 2   AverageTemperatureUncertainty  545550 non-null  float64\n",
      " 3   Country                        577462 non-null  object \n",
      "dtypes: float64(2), object(2)\n",
      "memory usage: 17.6+ MB\n"
     ]
    }
   ],
   "source": [
    "df.info() ## <-- looking at our column values"
   ]
  },
  {
   "cell_type": "code",
   "execution_count": 5,
   "metadata": {},
   "outputs": [
    {
     "data": {
      "text/plain": [
       "0         1743-11-01\n",
       "1         1743-12-01\n",
       "2         1744-01-01\n",
       "3         1744-02-01\n",
       "4         1744-03-01\n",
       "             ...    \n",
       "577457    2013-05-01\n",
       "577458    2013-06-01\n",
       "577459    2013-07-01\n",
       "577460    2013-08-01\n",
       "577461    2013-09-01\n",
       "Name: dt, Length: 577462, dtype: object"
      ]
     },
     "execution_count": 5,
     "metadata": {},
     "output_type": "execute_result"
    }
   ],
   "source": [
    "df.dt ## <-- seeing if we have a datetime object we do not"
   ]
  },
  {
   "cell_type": "code",
   "execution_count": 6,
   "metadata": {},
   "outputs": [],
   "source": [
    "df.dt = pd.to_datetime(df.dt, format = '%Y-%m-%d') ## converting to date time"
   ]
  },
  {
   "cell_type": "code",
   "execution_count": 7,
   "metadata": {},
   "outputs": [
    {
     "data": {
      "text/plain": [
       "0        1743-11-01\n",
       "1        1743-12-01\n",
       "2        1744-01-01\n",
       "3        1744-02-01\n",
       "4        1744-03-01\n",
       "            ...    \n",
       "577457   2013-05-01\n",
       "577458   2013-06-01\n",
       "577459   2013-07-01\n",
       "577460   2013-08-01\n",
       "577461   2013-09-01\n",
       "Name: dt, Length: 577462, dtype: datetime64[ns]"
      ]
     },
     "execution_count": 7,
     "metadata": {},
     "output_type": "execute_result"
    }
   ],
   "source": [
    "df.dt ## <-- quality assurance check"
   ]
  },
  {
   "cell_type": "code",
   "execution_count": 8,
   "metadata": {},
   "outputs": [
    {
     "data": {
      "text/plain": [
       "Switzerland                            3239\n",
       "Austria                                3239\n",
       "Finland                                3239\n",
       "Czech Republic                         3239\n",
       "Ukraine                                3239\n",
       "                                       ... \n",
       "Guam                                   1329\n",
       "Northern Mariana Islands               1329\n",
       "Heard Island And Mcdonald Islands       788\n",
       "French Southern And Antarctic Lands     788\n",
       "Antarctica                              764\n",
       "Name: Country, Length: 243, dtype: int64"
      ]
     },
     "execution_count": 8,
     "metadata": {},
     "output_type": "execute_result"
    }
   ],
   "source": [
    "df.Country.value_counts() ## <-- determining what location to pick\n",
    "\n",
    "## I want to pick one with the most values"
   ]
  },
  {
   "cell_type": "code",
   "execution_count": 9,
   "metadata": {},
   "outputs": [
    {
     "data": {
      "text/html": [
       "<div>\n",
       "<style scoped>\n",
       "    .dataframe tbody tr th:only-of-type {\n",
       "        vertical-align: middle;\n",
       "    }\n",
       "\n",
       "    .dataframe tbody tr th {\n",
       "        vertical-align: top;\n",
       "    }\n",
       "\n",
       "    .dataframe thead th {\n",
       "        text-align: right;\n",
       "    }\n",
       "</style>\n",
       "<table border=\"1\" class=\"dataframe\">\n",
       "  <thead>\n",
       "    <tr style=\"text-align: right;\">\n",
       "      <th></th>\n",
       "      <th>count</th>\n",
       "      <th>mean</th>\n",
       "      <th>std</th>\n",
       "      <th>min</th>\n",
       "      <th>25%</th>\n",
       "      <th>50%</th>\n",
       "      <th>75%</th>\n",
       "      <th>max</th>\n",
       "    </tr>\n",
       "  </thead>\n",
       "  <tbody>\n",
       "    <tr>\n",
       "      <th>AverageTemperature</th>\n",
       "      <td>544811.0</td>\n",
       "      <td>17.193354</td>\n",
       "      <td>10.953966</td>\n",
       "      <td>-37.658</td>\n",
       "      <td>10.025</td>\n",
       "      <td>20.901</td>\n",
       "      <td>25.814</td>\n",
       "      <td>38.842</td>\n",
       "    </tr>\n",
       "    <tr>\n",
       "      <th>AverageTemperatureUncertainty</th>\n",
       "      <td>545550.0</td>\n",
       "      <td>1.019057</td>\n",
       "      <td>1.201930</td>\n",
       "      <td>0.052</td>\n",
       "      <td>0.323</td>\n",
       "      <td>0.571</td>\n",
       "      <td>1.206</td>\n",
       "      <td>15.003</td>\n",
       "    </tr>\n",
       "  </tbody>\n",
       "</table>\n",
       "</div>"
      ],
      "text/plain": [
       "                                  count       mean        std     min     25%  \\\n",
       "AverageTemperature             544811.0  17.193354  10.953966 -37.658  10.025   \n",
       "AverageTemperatureUncertainty  545550.0   1.019057   1.201930   0.052   0.323   \n",
       "\n",
       "                                  50%     75%     max  \n",
       "AverageTemperature             20.901  25.814  38.842  \n",
       "AverageTemperatureUncertainty   0.571   1.206  15.003  "
      ]
     },
     "execution_count": 9,
     "metadata": {},
     "output_type": "execute_result"
    }
   ],
   "source": [
    "df.describe().T ## <-- looking at my numerical statistics"
   ]
  },
  {
   "cell_type": "markdown",
   "metadata": {},
   "source": [
    "#### Column Distributions"
   ]
  },
  {
   "cell_type": "code",
   "execution_count": 10,
   "metadata": {},
   "outputs": [
    {
     "data": {
      "image/png": "[encoded data removed]",
      "text/plain": [
       "<Figure size 432x288 with 1 Axes>"
      ]
     },
     "metadata": {
      "needs_background": "light"
     },
     "output_type": "display_data"
    }
   ],
   "source": [
    "df.AverageTemperature.hist()\n",
    "plt.title('Distribution of Avg Temperature')\n",
    "plt.xlabel('Average Temperature')\n",
    "plt.ylabel('Frequency')\n",
    "plt.show()"
   ]
  },
  {
   "cell_type": "code",
   "execution_count": 11,
   "metadata": {},
   "outputs": [
    {
     "data": {
      "image/png": "[encoded data removed]",
      "text/plain": [
       "<Figure size 432x288 with 1 Axes>"
      ]
     },
     "metadata": {
      "needs_background": "light"
     },
     "output_type": "display_data"
    }
   ],
   "source": [
    "df.AverageTemperatureUncertainty.hist()\n",
    "plt.title('Distribution of Avg Temp Uncertainty')\n",
    "plt.xlabel('Average Temperature Uncertainty')\n",
    "plt.ylabel('Frequency')\n",
    "plt.show()"
   ]
  },
  {
   "cell_type": "markdown",
   "metadata": {},
   "source": [
    "### Prepare"
   ]
  },
  {
   "cell_type": "code",
   "execution_count": 12,
   "metadata": {},
   "outputs": [
    {
     "data": {
      "text/plain": [
       "Switzerland                            3239\n",
       "Austria                                3239\n",
       "Finland                                3239\n",
       "Czech Republic                         3239\n",
       "Ukraine                                3239\n",
       "                                       ... \n",
       "Guam                                   1329\n",
       "Northern Mariana Islands               1329\n",
       "Heard Island And Mcdonald Islands       788\n",
       "French Southern And Antarctic Lands     788\n",
       "Antarctica                              764\n",
       "Name: Country, Length: 243, dtype: int64"
      ]
     },
     "execution_count": 12,
     "metadata": {},
     "output_type": "execute_result"
    }
   ],
   "source": [
    "df.Country.value_counts() ## <-- Lets pick Netherlands \n",
    "\n",
    "## for our location"
   ]
  },
  {
   "cell_type": "code",
   "execution_count": 13,
   "metadata": {},
   "outputs": [
    {
     "data": {
      "text/html": [
       "<div>\n",
       "<style scoped>\n",
       "    .dataframe tbody tr th:only-of-type {\n",
       "        vertical-align: middle;\n",
       "    }\n",
       "\n",
       "    .dataframe tbody tr th {\n",
       "        vertical-align: top;\n",
       "    }\n",
       "\n",
       "    .dataframe thead th {\n",
       "        text-align: right;\n",
       "    }\n",
       "</style>\n",
       "<table border=\"1\" class=\"dataframe\">\n",
       "  <thead>\n",
       "    <tr style=\"text-align: right;\">\n",
       "      <th></th>\n",
       "      <th>dt</th>\n",
       "      <th>AverageTemperature</th>\n",
       "      <th>AverageTemperatureUncertainty</th>\n",
       "      <th>Country</th>\n",
       "    </tr>\n",
       "  </thead>\n",
       "  <tbody>\n",
       "    <tr>\n",
       "      <th>364075</th>\n",
       "      <td>1743-11-01</td>\n",
       "      <td>7.606</td>\n",
       "      <td>1.746</td>\n",
       "      <td>Netherlands (Europe)</td>\n",
       "    </tr>\n",
       "    <tr>\n",
       "      <th>364076</th>\n",
       "      <td>1743-12-01</td>\n",
       "      <td>NaN</td>\n",
       "      <td>NaN</td>\n",
       "      <td>Netherlands (Europe)</td>\n",
       "    </tr>\n",
       "    <tr>\n",
       "      <th>364077</th>\n",
       "      <td>1744-01-01</td>\n",
       "      <td>NaN</td>\n",
       "      <td>NaN</td>\n",
       "      <td>Netherlands (Europe)</td>\n",
       "    </tr>\n",
       "    <tr>\n",
       "      <th>364078</th>\n",
       "      <td>1744-02-01</td>\n",
       "      <td>NaN</td>\n",
       "      <td>NaN</td>\n",
       "      <td>Netherlands (Europe)</td>\n",
       "    </tr>\n",
       "    <tr>\n",
       "      <th>364079</th>\n",
       "      <td>1744-03-01</td>\n",
       "      <td>NaN</td>\n",
       "      <td>NaN</td>\n",
       "      <td>Netherlands (Europe)</td>\n",
       "    </tr>\n",
       "  </tbody>\n",
       "</table>\n",
       "</div>"
      ],
      "text/plain": [
       "               dt  AverageTemperature  AverageTemperatureUncertainty  \\\n",
       "364075 1743-11-01               7.606                          1.746   \n",
       "364076 1743-12-01                 NaN                            NaN   \n",
       "364077 1744-01-01                 NaN                            NaN   \n",
       "364078 1744-02-01                 NaN                            NaN   \n",
       "364079 1744-03-01                 NaN                            NaN   \n",
       "\n",
       "                     Country  \n",
       "364075  Netherlands (Europe)  \n",
       "364076  Netherlands (Europe)  \n",
       "364077  Netherlands (Europe)  \n",
       "364078  Netherlands (Europe)  \n",
       "364079  Netherlands (Europe)  "
      ]
     },
     "execution_count": 13,
     "metadata": {},
     "output_type": "execute_result"
    }
   ],
   "source": [
    "df = df[df.Country == \"Netherlands (Europe)\"] ## <-- narrowing down to the netherlands\n",
    "\n",
    "df.head()"
   ]
  },
  {
   "cell_type": "code",
   "execution_count": 14,
   "metadata": {},
   "outputs": [
    {
     "data": {
      "text/plain": [
       "Netherlands (Europe)    3239\n",
       "Name: Country, dtype: int64"
      ]
     },
     "execution_count": 14,
     "metadata": {},
     "output_type": "execute_result"
    }
   ],
   "source": [
    "df.Country.value_counts() ## <-- quality assurance check"
   ]
  },
  {
   "cell_type": "code",
   "execution_count": 15,
   "metadata": {},
   "outputs": [
    {
     "data": {
      "text/plain": [
       "(3239, 4)"
      ]
     },
     "execution_count": 15,
     "metadata": {},
     "output_type": "execute_result"
    }
   ],
   "source": [
    "df.shape ## <-- looking at our row shape before we check for nulls"
   ]
  },
  {
   "cell_type": "code",
   "execution_count": 16,
   "metadata": {},
   "outputs": [
    {
     "data": {
      "text/plain": [
       "dt                                0\n",
       "AverageTemperature               73\n",
       "AverageTemperatureUncertainty    73\n",
       "Country                           0\n",
       "dtype: int64"
      ]
     },
     "execution_count": 16,
     "metadata": {},
     "output_type": "execute_result"
    }
   ],
   "source": [
    "df.isnull().sum() ## <-- looking at our null values"
   ]
  },
  {
   "cell_type": "markdown",
   "metadata": {},
   "source": [
    "73 null values is not very many compared to the 3239 rows of data in the dataframe. To make this easy I am going to drop the nulls and move forward."
   ]
  },
  {
   "cell_type": "code",
   "execution_count": 17,
   "metadata": {},
   "outputs": [
    {
     "data": {
      "text/plain": [
       "dt                               0\n",
       "AverageTemperature               0\n",
       "AverageTemperatureUncertainty    0\n",
       "Country                          0\n",
       "dtype: int64"
      ]
     },
     "execution_count": 17,
     "metadata": {},
     "output_type": "execute_result"
    }
   ],
   "source": [
    "df = df.dropna() ## <-- drop the nulls\n",
    "\n",
    "df.isnull().sum() ## <-- quality assurance check"
   ]
  },
  {
   "cell_type": "markdown",
   "metadata": {},
   "source": [
    "#### Column Distribution Part II"
   ]
  },
  {
   "cell_type": "code",
   "execution_count": 18,
   "metadata": {},
   "outputs": [
    {
     "data": {
      "image/png": "[encoded data removed]",
      "text/plain": [
       "<Figure size 432x288 with 1 Axes>"
      ]
     },
     "metadata": {
      "needs_background": "light"
     },
     "output_type": "display_data"
    }
   ],
   "source": [
    "df.AverageTemperature.hist()\n",
    "plt.title('Distribution of Avg Temperature')\n",
    "plt.xlabel('Average Temperature')\n",
    "plt.ylabel('Frequency')\n",
    "plt.show()"
   ]
  },
  {
   "cell_type": "code",
   "execution_count": 19,
   "metadata": {},
   "outputs": [
    {
     "data": {
      "image/png": "[encoded data removed]",
      "text/plain": [
       "<Figure size 432x288 with 1 Axes>"
      ]
     },
     "metadata": {
      "needs_background": "light"
     },
     "output_type": "display_data"
    }
   ],
   "source": [
    "df.AverageTemperatureUncertainty.hist()\n",
    "plt.title('Distribution of Avg Temp Uncertainty')\n",
    "plt.xlabel('Average Temperature Uncertainty')\n",
    "plt.ylabel('Frequency')\n",
    "plt.show()"
   ]
  },
  {
   "cell_type": "markdown",
   "metadata": {},
   "source": [
    "After looking in to Average Temperature Uncertainty and its definition. Given the goal of this project is to create a forecast for average temperature in the Netherlands I do not think it will bring and value and we are going to remove it from our dataframe before moving on to explore"
   ]
  },
  {
   "cell_type": "code",
   "execution_count": 20,
   "metadata": {},
   "outputs": [
    {
     "data": {
      "text/html": [
       "<div>\n",
       "<style scoped>\n",
       "    .dataframe tbody tr th:only-of-type {\n",
       "        vertical-align: middle;\n",
       "    }\n",
       "\n",
       "    .dataframe tbody tr th {\n",
       "        vertical-align: top;\n",
       "    }\n",
       "\n",
       "    .dataframe thead th {\n",
       "        text-align: right;\n",
       "    }\n",
       "</style>\n",
       "<table border=\"1\" class=\"dataframe\">\n",
       "  <thead>\n",
       "    <tr style=\"text-align: right;\">\n",
       "      <th></th>\n",
       "      <th>dt</th>\n",
       "      <th>AverageTemperature</th>\n",
       "      <th>Country</th>\n",
       "    </tr>\n",
       "  </thead>\n",
       "  <tbody>\n",
       "    <tr>\n",
       "      <th>364075</th>\n",
       "      <td>1743-11-01</td>\n",
       "      <td>7.606</td>\n",
       "      <td>Netherlands (Europe)</td>\n",
       "    </tr>\n",
       "    <tr>\n",
       "      <th>364080</th>\n",
       "      <td>1744-04-01</td>\n",
       "      <td>7.986</td>\n",
       "      <td>Netherlands (Europe)</td>\n",
       "    </tr>\n",
       "    <tr>\n",
       "      <th>364081</th>\n",
       "      <td>1744-05-01</td>\n",
       "      <td>11.306</td>\n",
       "      <td>Netherlands (Europe)</td>\n",
       "    </tr>\n",
       "    <tr>\n",
       "      <th>364082</th>\n",
       "      <td>1744-06-01</td>\n",
       "      <td>14.475</td>\n",
       "      <td>Netherlands (Europe)</td>\n",
       "    </tr>\n",
       "    <tr>\n",
       "      <th>364083</th>\n",
       "      <td>1744-07-01</td>\n",
       "      <td>16.013</td>\n",
       "      <td>Netherlands (Europe)</td>\n",
       "    </tr>\n",
       "  </tbody>\n",
       "</table>\n",
       "</div>"
      ],
      "text/plain": [
       "               dt  AverageTemperature               Country\n",
       "364075 1743-11-01               7.606  Netherlands (Europe)\n",
       "364080 1744-04-01               7.986  Netherlands (Europe)\n",
       "364081 1744-05-01              11.306  Netherlands (Europe)\n",
       "364082 1744-06-01              14.475  Netherlands (Europe)\n",
       "364083 1744-07-01              16.013  Netherlands (Europe)"
      ]
     },
     "execution_count": 20,
     "metadata": {},
     "output_type": "execute_result"
    }
   ],
   "source": [
    "df = df.drop(columns = 'AverageTemperatureUncertainty')\n",
    "df.head()"
   ]
  },
  {
   "cell_type": "code",
   "execution_count": 21,
   "metadata": {},
   "outputs": [],
   "source": [
    "## setting date as index and sorting for vis purposes\n",
    "\n",
    "df = df.set_index('dt').sort_index() "
   ]
  },
  {
   "cell_type": "code",
   "execution_count": 22,
   "metadata": {},
   "outputs": [
    {
     "data": {
      "text/html": [
       "<div>\n",
       "<style scoped>\n",
       "    .dataframe tbody tr th:only-of-type {\n",
       "        vertical-align: middle;\n",
       "    }\n",
       "\n",
       "    .dataframe tbody tr th {\n",
       "        vertical-align: top;\n",
       "    }\n",
       "\n",
       "    .dataframe thead th {\n",
       "        text-align: right;\n",
       "    }\n",
       "</style>\n",
       "<table border=\"1\" class=\"dataframe\">\n",
       "  <thead>\n",
       "    <tr style=\"text-align: right;\">\n",
       "      <th></th>\n",
       "      <th>AverageTemperature</th>\n",
       "      <th>Country</th>\n",
       "    </tr>\n",
       "    <tr>\n",
       "      <th>dt</th>\n",
       "      <th></th>\n",
       "      <th></th>\n",
       "    </tr>\n",
       "  </thead>\n",
       "  <tbody>\n",
       "    <tr>\n",
       "      <th>1743-11-01</th>\n",
       "      <td>7.606</td>\n",
       "      <td>Netherlands (Europe)</td>\n",
       "    </tr>\n",
       "    <tr>\n",
       "      <th>1744-04-01</th>\n",
       "      <td>7.986</td>\n",
       "      <td>Netherlands (Europe)</td>\n",
       "    </tr>\n",
       "    <tr>\n",
       "      <th>1744-05-01</th>\n",
       "      <td>11.306</td>\n",
       "      <td>Netherlands (Europe)</td>\n",
       "    </tr>\n",
       "    <tr>\n",
       "      <th>1744-06-01</th>\n",
       "      <td>14.475</td>\n",
       "      <td>Netherlands (Europe)</td>\n",
       "    </tr>\n",
       "    <tr>\n",
       "      <th>1744-07-01</th>\n",
       "      <td>16.013</td>\n",
       "      <td>Netherlands (Europe)</td>\n",
       "    </tr>\n",
       "  </tbody>\n",
       "</table>\n",
       "</div>"
      ],
      "text/plain": [
       "            AverageTemperature               Country\n",
       "dt                                                  \n",
       "1743-11-01               7.606  Netherlands (Europe)\n",
       "1744-04-01               7.986  Netherlands (Europe)\n",
       "1744-05-01              11.306  Netherlands (Europe)\n",
       "1744-06-01              14.475  Netherlands (Europe)\n",
       "1744-07-01              16.013  Netherlands (Europe)"
      ]
     },
     "execution_count": 22,
     "metadata": {},
     "output_type": "execute_result"
    }
   ],
   "source": [
    "df.head() ##"
   ]
  },
  {
   "cell_type": "code",
   "execution_count": null,
   "metadata": {},
   "outputs": [],
   "source": []
  }
 ],
 "metadata": {
  "kernelspec": {
   "display_name": "Python 3",
   "language": "python",
   "name": "python3"
  },
  "language_info": {
   "codemirror_mode": {
    "name": "ipython",
    "version": 3
   },
   "file_extension": ".py",
   "mimetype": "text/x-python",
   "name": "python",
   "nbconvert_exporter": "python",
   "pygments_lexer": "ipython3",
   "version": "3.8.5"
  }
 },
 "nbformat": 4,
 "nbformat_minor": 4
}
